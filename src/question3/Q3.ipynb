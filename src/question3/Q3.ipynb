{
 "cells": [
  {
   "cell_type": "code",
   "execution_count": 1,
   "id": "88c512d3",
   "metadata": {},
   "outputs": [],
   "source": [
    "import numpy as np"
   ]
  },
  {
   "cell_type": "markdown",
   "id": "5bc7e950",
   "metadata": {},
   "source": [
    "## Exact Inference"
   ]
  },
  {
   "cell_type": "code",
   "execution_count": 2,
   "id": "11119b18",
   "metadata": {},
   "outputs": [],
   "source": [
    "def neighbour_potential(beta):\n",
    "    table = np.ones((2,2))\n",
    "    for x in range(0,2):\n",
    "        for y in range(0,2):\n",
    "            table[x,y] = np.exp(beta*1*(x==y)) \n",
    "    return table\n",
    "\n",
    "def col_pot(n, beta):\n",
    "    if n<2:\n",
    "        raise Exception('n must be at least 2 (n: number of nodes)')\n",
    "    pot = neighbour_potential(beta).reshape(-1)\n",
    "    for _ in range(2,n):\n",
    "        shape = pot.shape[0]\n",
    "        pot_top = pot[:int(shape/2)]\n",
    "        pot_bottom = pot_top[::-1] # reverse the order of pot_top, equivalent to pot[int(shape/2):]\n",
    "        new_pot_top = pot_top * np.exp(1)\n",
    "        new_pot_bottom = pot_bottom * 1\n",
    "        new_pot_half = np.concatenate((new_pot_top,new_pot_bottom))\n",
    "        pot = np.concatenate((new_pot_half, new_pot_half[::-1]))\n",
    "    return pot\n",
    "\n",
    "def var_to_var(n, beta):\n",
    "    count_list = []\n",
    "    max_len = len(bin(2**n-1)[2:])\n",
    "    for col2 in range(2**n):\n",
    "        col2_bin = bin(col2)[2:]\n",
    "        l2 = len(col2_bin)\n",
    "        if l2 < max_len:\n",
    "            col2_bin = '0'*(max_len-l2) + col2_bin\n",
    "        for col1 in range(2**n):\n",
    "            col1_bin = bin(col1)[2:]\n",
    "            l1 = len(col1_bin)\n",
    "            if l1 < max_len:\n",
    "                col1_bin = '0'*(max_len-l1) + col1_bin\n",
    "            count = sum(bit2 == bit1 for bit2, bit1 in zip(col2_bin, col1_bin))\n",
    "            count_list.append(np.exp(count))\n",
    "    count_list = np.array(count_list).reshape(2**n,2**n)\n",
    "    return count_list\n",
    "\n",
    "def cal_prob(n, beta):\n",
    "    '''\n",
    "    n : length/width of lattice where size = length x width\n",
    "    beta\n",
    "    '''\n",
    "    factor_graph = 1\n",
    "        \n",
    "    for _ in range(n-1):\n",
    "        f = col_pot(n,beta) # column potential i.e. x_prime\n",
    "        g = var_to_var(n,beta) # variable to variable g(x_i-1, x_i)\n",
    "        factor_graph = np.multiply(g @ f, factor_graph)\n",
    "    \n",
    "    marginal_col = np.multiply(col_pot(n, beta), factor_graph).reshape([2 for i in range(n)])\n",
    "    marginal_1_10 = marginal_col.sum(tuple([i for i in range(1,n-1)]))\n",
    "    \n",
    "    total_prob = marginal_1_10.sum()\n",
    "    marginal = marginal_1_10 / total_prob\n",
    "    \n",
    "    assert marginal.shape == (2,2)\n",
    "    \n",
    "    return marginal"
   ]
  },
  {
   "cell_type": "markdown",
   "id": "9cb961f4",
   "metadata": {},
   "source": [
    "### $\\beta$ = 0.01"
   ]
  },
  {
   "cell_type": "code",
   "execution_count": 5,
   "id": "16ed415f",
   "metadata": {},
   "outputs": [
    {
     "name": "stdout",
     "output_type": "stream",
     "text": [
      "P(x_1 = 1, x_10 = 1) = 0.2539035374608646\n",
      "P(x_1 = -1, x_10 = 1) = 0.2460964625391352\n",
      "P(x_1 = 1, x_10 = -1) = 0.24609646253913556\n",
      "P(x_1 = -1, x_10 = -1) = 0.25390353746086475\n"
     ]
    }
   ],
   "source": [
    "beta = 0.01\n",
    "ei_small = cal_prob(10,beta)\n",
    "print(f'P(x_1 = 1, x_10 = 1) = {ei_small[0,0]}')\n",
    "print(f'P(x_1 = -1, x_10 = 1) = {ei_small[0,1]}')\n",
    "print(f'P(x_1 = 1, x_10 = -1) = {ei_small[1,0]}')\n",
    "print(f'P(x_1 = -1, x_10 = -1) = {ei_small[1,1]}')"
   ]
  },
  {
   "cell_type": "markdown",
   "id": "7adeb5ab",
   "metadata": {},
   "source": [
    "### $\\beta$ = 1"
   ]
  },
  {
   "cell_type": "code",
   "execution_count": 6,
   "id": "6d198f19",
   "metadata": {},
   "outputs": [
    {
     "name": "stdout",
     "output_type": "stream",
     "text": [
      "P(x_1 = 1, x_10 = 1) = 0.44816123692198634\n",
      "P(x_1 = -1, x_10 = 1) = 0.05183876307801495\n",
      "P(x_1 = 1, x_10 = -1) = 0.05183876307801521\n",
      "P(x_1 = -1, x_10 = -1) = 0.4481612369219835\n"
     ]
    }
   ],
   "source": [
    "beta = 1\n",
    "ei_mid = cal_prob(10,beta)\n",
    "print(f'P(x_1 = 1, x_10 = 1) = {ei_mid[0,0]}')\n",
    "print(f'P(x_1 = -1, x_10 = 1) = {ei_mid[0,1]}')\n",
    "print(f'P(x_1 = 1, x_10 = -1) = {ei_mid[1,0]}')\n",
    "print(f'P(x_1 = -1, x_10 = -1) = {ei_mid[1,1]}')"
   ]
  },
  {
   "cell_type": "markdown",
   "id": "464a28c8",
   "metadata": {},
   "source": [
    "### $\\beta$ = 4"
   ]
  },
  {
   "cell_type": "code",
   "execution_count": 7,
   "id": "222e151e",
   "metadata": {},
   "outputs": [
    {
     "name": "stdout",
     "output_type": "stream",
     "text": [
      "P(x_1 = 1, x_10 = 1) = 0.46261626157004493\n",
      "P(x_1 = -1, x_10 = 1) = 0.03738373842995522\n",
      "P(x_1 = 1, x_10 = -1) = 0.03738373842995526\n",
      "P(x_1 = -1, x_10 = -1) = 0.4626162615700445\n"
     ]
    }
   ],
   "source": [
    "beta = 4\n",
    "ei_large = cal_prob(10,beta)\n",
    "print(f'P(x_1 = 1, x_10 = 1) = {ei_large[0,0]}')\n",
    "print(f'P(x_1 = -1, x_10 = 1) = {ei_large[0,1]}')\n",
    "print(f'P(x_1 = 1, x_10 = -1) = {ei_large[1,0]}')\n",
    "print(f'P(x_1 = -1, x_10 = -1) = {ei_large[1,1]}')"
   ]
  },
  {
   "cell_type": "markdown",
   "id": "a8189d02",
   "metadata": {},
   "source": [
    "## Mean Field Approximation"
   ]
  },
  {
   "cell_type": "code",
   "execution_count": 10,
   "id": "05e6079c",
   "metadata": {},
   "outputs": [],
   "source": [
    "def mfa(n, beta, init, iteration):\n",
    "    for _ in range(iteration):\n",
    "        for col in range(n):\n",
    "            for row in range(n):\n",
    "                if col%(n-1)==0 and row%(n-1)==0: # 2 neighbours potential\n",
    "                    if col < int(n/2) and row < int(n/2):\n",
    "                        row_axis = (row+1, row)\n",
    "                        col_axis = (col, col+1)\n",
    "                    elif col > int(n/2) and row < int(n/2):\n",
    "                        row_axis = (row+1, row)\n",
    "                        col_axis = (col, col-1)\n",
    "                    elif col < int(n/2) and row > int(n/2):\n",
    "                        row_axis = (row-1, row)\n",
    "                        col_axis = (col, col+1)\n",
    "                    elif col > int(n/2) and row > int(n/2):\n",
    "                        row_axis = (row-1, row)\n",
    "                        col_axis = (col, col-1)    \n",
    "\n",
    "                elif (col%(n-1)==0 and row%(n-1)!=0) or (row%(n-1)==0 and col%(n-1)!=0): # 3 neighbours potential\n",
    "                    if row%(n-1)!=0 and col < int(n/2):\n",
    "                        row_axis = (row-1, row, row+1)\n",
    "                        col_axis = (col, col+1, col)\n",
    "                    elif row%(n-1)!=0 and col > int(n/2):\n",
    "                        row_axis = (row-1, row, row+1)\n",
    "                        col_axis = (col, col-1, col)\n",
    "                    elif col%(n-1)!=0 and row < int(n/2):\n",
    "                        row_axis = (row, row+1, row)\n",
    "                        col_axis = (col-1, col, col+1)\n",
    "                    elif col%(n-1)!=0 and row > int(n/2):\n",
    "                        row_axis = (row, row-1, row)\n",
    "                        col_axis = (col-1, col, col+1)\n",
    "\n",
    "                else: # 4 neighbours potential\n",
    "                    row_axis = (row, row, row+1, row-1)\n",
    "                    col_axis = (col-1, col+1, col, col)\n",
    "\n",
    "                pot_pos = beta * (init[row_axis, col_axis]).sum()\n",
    "                pot_neg = beta * (1-init[row_axis, col_axis]).sum()\n",
    "\n",
    "                init[row, col] = np.exp(pot_pos) / (np.exp(pot_pos) + np.exp(pot_neg))\n",
    "                \n",
    "    return init"
   ]
  },
  {
   "cell_type": "markdown",
   "id": "b6e348e6",
   "metadata": {},
   "source": [
    "### $\\beta$ = 0.01"
   ]
  },
  {
   "cell_type": "code",
   "execution_count": 11,
   "id": "9489cd2d",
   "metadata": {},
   "outputs": [
    {
     "name": "stdout",
     "output_type": "stream",
     "text": [
      "P(x_1 = 1, x_10 = 1) = 0.25\n",
      "P(x_1 = -1, x_10 = 1) = 0.25\n",
      "P(x_1 = 1, x_10 = -1) = 0.25\n",
      "P(x_1 = -1, x_10 = -1) = 0.25\n"
     ]
    }
   ],
   "source": [
    "n = 10\n",
    "beta = 0.01\n",
    "init = np.random.rand(n,n)\n",
    "iteration = 5000\n",
    "\n",
    "q_star_small = mfa(n, beta, init, iteration)\n",
    "\n",
    "print(f'P(x_1 = 1, x_10 = 1) = {q_star_small[0,-1] * q_star_small[-1,-1]}')\n",
    "print(f'P(x_1 = -1, x_10 = 1) = {q_star_small[0,-1] * (1-q_star_small[-1,-1])}')\n",
    "print(f'P(x_1 = 1, x_10 = -1) = {(1-q_star_small[0,-1]) * q_star_small[-1,-1]}')\n",
    "print(f'P(x_1 = -1, x_10 = -1) = {(1-q_star_small[0,-1]) * (1-q_star_small[-1,-1])}')"
   ]
  },
  {
   "cell_type": "markdown",
   "id": "4efc249e",
   "metadata": {},
   "source": [
    "### $\\beta$ = 1"
   ]
  },
  {
   "cell_type": "code",
   "execution_count": 21,
   "id": "5a2123f6",
   "metadata": {},
   "outputs": [
    {
     "name": "stdout",
     "output_type": "stream",
     "text": [
      "Frist Trial\n",
      "P(x_1 = 1, x_10 = 1) = 0.023894514217289754\n",
      "P(x_1 = -1, x_10 = 1) = 0.13068399081264562\n",
      "P(x_1 = 1, x_10 = -1) = 0.13068399081264562\n",
      "P(x_1 = -1, x_10 = -1) = 0.7147375041574191\n"
     ]
    }
   ],
   "source": [
    "n = 10\n",
    "beta = 1\n",
    "init = np.random.rand(n,n)\n",
    "iteration = 5000\n",
    "\n",
    "q_star_mid = mfa(n, beta, init, iteration)\n",
    "\n",
    "print('Frist Trial')\n",
    "print(f'P(x_1 = 1, x_10 = 1) = {q_star_mid[0,-1] * q_star_mid[-1,-1]}')\n",
    "print(f'P(x_1 = -1, x_10 = 1) = {q_star_mid[0,-1] * (1-q_star_mid[-1,-1])}')\n",
    "print(f'P(x_1 = 1, x_10 = -1) = {(1-q_star_mid[0,-1]) * q_star_mid[-1,-1]}')\n",
    "print(f'P(x_1 = -1, x_10 = -1) = {(1-q_star_mid[0,-1]) * (1-q_star_mid[-1,-1])}')"
   ]
  },
  {
   "cell_type": "code",
   "execution_count": 22,
   "id": "94825019",
   "metadata": {},
   "outputs": [
    {
     "name": "stdout",
     "output_type": "stream",
     "text": [
      "Second Trial\n",
      "P(x_1 = 1, x_10 = 1) = 0.1308044635090594\n",
      "P(x_1 = -1, x_10 = 1) = 0.02394847062224909\n",
      "P(x_1 = 1, x_10 = -1) = 0.7144426023596322\n",
      "P(x_1 = -1, x_10 = -1) = 0.13080446350905933\n"
     ]
    }
   ],
   "source": [
    "n = 10\n",
    "beta = 1\n",
    "init = np.random.rand(n,n)\n",
    "iteration = 5000\n",
    "\n",
    "q_star_mid = mfa(n, beta, init, iteration)\n",
    "\n",
    "print('Second Trial')\n",
    "print(f'P(x_1 = 1, x_10 = 1) = {q_star_mid[0,-1] * q_star_mid[-1,-1]}')\n",
    "print(f'P(x_1 = -1, x_10 = 1) = {q_star_mid[0,-1] * (1-q_star_mid[-1,-1])}')\n",
    "print(f'P(x_1 = 1, x_10 = -1) = {(1-q_star_mid[0,-1]) * q_star_mid[-1,-1]}')\n",
    "print(f'P(x_1 = -1, x_10 = -1) = {(1-q_star_mid[0,-1]) * (1-q_star_mid[-1,-1])}')"
   ]
  },
  {
   "cell_type": "code",
   "execution_count": 23,
   "id": "67189bb0",
   "metadata": {},
   "outputs": [
    {
     "name": "stdout",
     "output_type": "stream",
     "text": [
      "Third Trial\n",
      "P(x_1 = 1, x_10 = 1) = 0.712247137268597\n",
      "P(x_1 = -1, x_10 = 1) = 0.1317002172912695\n",
      "P(x_1 = 1, x_10 = -1) = 0.1317002172912695\n",
      "P(x_1 = -1, x_10 = -1) = 0.024352428148864028\n"
     ]
    }
   ],
   "source": [
    "n = 10\n",
    "beta = 1\n",
    "init = np.random.rand(n,n)\n",
    "iteration = 5000\n",
    "\n",
    "q_star_mid = mfa(n, beta, init, iteration)\n",
    "\n",
    "print('Third Trial')\n",
    "print(f'P(x_1 = 1, x_10 = 1) = {q_star_mid[0,-1] * q_star_mid[-1,-1]}')\n",
    "print(f'P(x_1 = -1, x_10 = 1) = {q_star_mid[0,-1] * (1-q_star_mid[-1,-1])}')\n",
    "print(f'P(x_1 = 1, x_10 = -1) = {(1-q_star_mid[0,-1]) * q_star_mid[-1,-1]}')\n",
    "print(f'P(x_1 = -1, x_10 = -1) = {(1-q_star_mid[0,-1]) * (1-q_star_mid[-1,-1])}')"
   ]
  },
  {
   "cell_type": "code",
   "execution_count": 29,
   "id": "c6d92590",
   "metadata": {},
   "outputs": [
    {
     "name": "stdout",
     "output_type": "stream",
     "text": [
      "Fourth Trial\n",
      "P(x_1 = 1, x_10 = 1) = 0.7147375041574189\n",
      "P(x_1 = -1, x_10 = 1) = 0.13068399081264565\n",
      "P(x_1 = 1, x_10 = -1) = 0.13068399081264565\n",
      "P(x_1 = -1, x_10 = -1) = 0.02389451421728977\n"
     ]
    }
   ],
   "source": [
    "n = 10\n",
    "beta = 1\n",
    "init = np.random.rand(n,n)\n",
    "iteration = 5000\n",
    "\n",
    "q_star_mid = mfa(n, beta, init, iteration)\n",
    "\n",
    "print('Fourth Trial')\n",
    "print(f'P(x_1 = 1, x_10 = 1) = {q_star_mid[0,-1] * q_star_mid[-1,-1]}')\n",
    "print(f'P(x_1 = -1, x_10 = 1) = {q_star_mid[0,-1] * (1-q_star_mid[-1,-1])}')\n",
    "print(f'P(x_1 = 1, x_10 = -1) = {(1-q_star_mid[0,-1]) * q_star_mid[-1,-1]}')\n",
    "print(f'P(x_1 = -1, x_10 = -1) = {(1-q_star_mid[0,-1]) * (1-q_star_mid[-1,-1])}')"
   ]
  },
  {
   "cell_type": "code",
   "execution_count": 30,
   "id": "3931f0da",
   "metadata": {},
   "outputs": [
    {
     "name": "stdout",
     "output_type": "stream",
     "text": [
      "Fifth Trial\n",
      "P(x_1 = 1, x_10 = 1) = 0.7147375041574189\n",
      "P(x_1 = -1, x_10 = 1) = 0.13068399081264565\n",
      "P(x_1 = 1, x_10 = -1) = 0.13068399081264565\n",
      "P(x_1 = -1, x_10 = -1) = 0.02389451421728977\n"
     ]
    }
   ],
   "source": [
    "n = 10\n",
    "beta = 1\n",
    "init = np.random.rand(n,n)\n",
    "iteration = 5000\n",
    "\n",
    "q_star_mid = mfa(n, beta, init, iteration)\n",
    "\n",
    "print('Fifth Trial')\n",
    "print(f'P(x_1 = 1, x_10 = 1) = {q_star_mid[0,-1] * q_star_mid[-1,-1]}')\n",
    "print(f'P(x_1 = -1, x_10 = 1) = {q_star_mid[0,-1] * (1-q_star_mid[-1,-1])}')\n",
    "print(f'P(x_1 = 1, x_10 = -1) = {(1-q_star_mid[0,-1]) * q_star_mid[-1,-1]}')\n",
    "print(f'P(x_1 = -1, x_10 = -1) = {(1-q_star_mid[0,-1]) * (1-q_star_mid[-1,-1])}')"
   ]
  },
  {
   "cell_type": "markdown",
   "id": "552658b5",
   "metadata": {},
   "source": [
    "### $\\beta$ = 4"
   ]
  },
  {
   "cell_type": "code",
   "execution_count": 24,
   "id": "21ce9b67",
   "metadata": {},
   "outputs": [
    {
     "name": "stdout",
     "output_type": "stream",
     "text": [
      "First Trial\n",
      "P(x_1 = 1, x_10 = 1) = 1.1248187637421885e-07\n",
      "P(x_1 = -1, x_10 = 1) = 0.00033527069655423647\n",
      "P(x_1 = 1, x_10 = -1) = 0.00033527069655423647\n",
      "P(x_1 = -1, x_10 = -1) = 0.9993293461250151\n"
     ]
    }
   ],
   "source": [
    "n = 10\n",
    "beta = 4\n",
    "init = np.random.rand(n,n)\n",
    "iteration = 5000\n",
    "\n",
    "q_star_large = mfa(n, beta, init, iteration)\n",
    "\n",
    "print('First Trial')\n",
    "print(f'P(x_1 = 1, x_10 = 1) = {q_star_large[0,-1] * q_star_large[-1,-1]}')\n",
    "print(f'P(x_1 = -1, x_10 = 1) = {q_star_large[0,-1] * (1-q_star_large[-1,-1])}')\n",
    "print(f'P(x_1 = 1, x_10 = -1) = {(1-q_star_large[0,-1]) * q_star_large[-1,-1]}')\n",
    "print(f'P(x_1 = -1, x_10 = -1) = {(1-q_star_large[0,-1]) * (1-q_star_large[-1,-1])}')"
   ]
  },
  {
   "cell_type": "code",
   "execution_count": 27,
   "id": "4b1c9ded",
   "metadata": {},
   "outputs": [
    {
     "name": "stdout",
     "output_type": "stream",
     "text": [
      "Second Trial\n",
      "P(x_1 = 1, x_10 = 1) = 0.00033527069655424184\n",
      "P(x_1 = -1, x_10 = 1) = 1.124818763742258e-07\n",
      "P(x_1 = 1, x_10 = -1) = 0.9993293461250151\n",
      "P(x_1 = -1, x_10 = -1) = 0.0003352706965542518\n"
     ]
    }
   ],
   "source": [
    "n = 10\n",
    "beta = 4\n",
    "init = np.random.rand(n,n)\n",
    "iteration = 5000\n",
    "\n",
    "q_star_large = mfa(n, beta, init, iteration)\n",
    "\n",
    "print('Second Trial')\n",
    "print(f'P(x_1 = 1, x_10 = 1) = {q_star_large[0,-1] * q_star_large[-1,-1]}')\n",
    "print(f'P(x_1 = -1, x_10 = 1) = {q_star_large[0,-1] * (1-q_star_large[-1,-1])}')\n",
    "print(f'P(x_1 = 1, x_10 = -1) = {(1-q_star_large[0,-1]) * q_star_large[-1,-1]}')\n",
    "print(f'P(x_1 = -1, x_10 = -1) = {(1-q_star_large[0,-1]) * (1-q_star_large[-1,-1])}')"
   ]
  },
  {
   "cell_type": "code",
   "execution_count": 28,
   "id": "2b0084bf",
   "metadata": {},
   "outputs": [
    {
     "name": "stdout",
     "output_type": "stream",
     "text": [
      "Third Trial\n",
      "P(x_1 = 1, x_10 = 1) = 0.9993293461250151\n",
      "P(x_1 = -1, x_10 = 1) = 0.0003352706965542518\n",
      "P(x_1 = 1, x_10 = -1) = 0.0003352706965542518\n",
      "P(x_1 = -1, x_10 = -1) = 1.1248187637422915e-07\n"
     ]
    }
   ],
   "source": [
    "n = 10\n",
    "beta = 4\n",
    "init = np.random.rand(n,n)\n",
    "iteration = 5000\n",
    "\n",
    "q_star_large = mfa(n, beta, init, iteration)\n",
    "\n",
    "print('Third Trial')\n",
    "print(f'P(x_1 = 1, x_10 = 1) = {q_star_large[0,-1] * q_star_large[-1,-1]}')\n",
    "print(f'P(x_1 = -1, x_10 = 1) = {q_star_large[0,-1] * (1-q_star_large[-1,-1])}')\n",
    "print(f'P(x_1 = 1, x_10 = -1) = {(1-q_star_large[0,-1]) * q_star_large[-1,-1]}')\n",
    "print(f'P(x_1 = -1, x_10 = -1) = {(1-q_star_large[0,-1]) * (1-q_star_large[-1,-1])}')"
   ]
  },
  {
   "cell_type": "code",
   "execution_count": 31,
   "id": "847d4e26",
   "metadata": {},
   "outputs": [
    {
     "name": "stdout",
     "output_type": "stream",
     "text": [
      "Fourth Trial\n",
      "P(x_1 = 1, x_10 = 1) = 1.1248187637421885e-07\n",
      "P(x_1 = -1, x_10 = 1) = 0.00033527069655423647\n",
      "P(x_1 = 1, x_10 = -1) = 0.00033527069655423647\n",
      "P(x_1 = -1, x_10 = -1) = 0.9993293461250151\n"
     ]
    }
   ],
   "source": [
    "n = 10\n",
    "beta = 4\n",
    "init = np.random.rand(n,n)\n",
    "iteration = 5000\n",
    "\n",
    "q_star_large = mfa(n, beta, init, iteration)\n",
    "\n",
    "print('Fourth Trial')\n",
    "print(f'P(x_1 = 1, x_10 = 1) = {q_star_large[0,-1] * q_star_large[-1,-1]}')\n",
    "print(f'P(x_1 = -1, x_10 = 1) = {q_star_large[0,-1] * (1-q_star_large[-1,-1])}')\n",
    "print(f'P(x_1 = 1, x_10 = -1) = {(1-q_star_large[0,-1]) * q_star_large[-1,-1]}')\n",
    "print(f'P(x_1 = -1, x_10 = -1) = {(1-q_star_large[0,-1]) * (1-q_star_large[-1,-1])}')"
   ]
  },
  {
   "cell_type": "code",
   "execution_count": 32,
   "id": "4921e54f",
   "metadata": {},
   "outputs": [
    {
     "name": "stdout",
     "output_type": "stream",
     "text": [
      "Fifth Trial\n",
      "P(x_1 = 1, x_10 = 1) = 0.9993293461249102\n",
      "P(x_1 = -1, x_10 = 1) = 0.0003352706966591327\n",
      "P(x_1 = 1, x_10 = -1) = 0.00033527069655421663\n",
      "P(x_1 = -1, x_10 = -1) = 1.1248187640941623e-07\n"
     ]
    }
   ],
   "source": [
    "n = 10\n",
    "beta = 4\n",
    "init = np.random.rand(n,n)\n",
    "iteration = 5000\n",
    "\n",
    "q_star_large = mfa(n, beta, init, iteration)\n",
    "\n",
    "print('Fifth Trial')\n",
    "print(f'P(x_1 = 1, x_10 = 1) = {q_star_large[0,-1] * q_star_large[-1,-1]}')\n",
    "print(f'P(x_1 = -1, x_10 = 1) = {q_star_large[0,-1] * (1-q_star_large[-1,-1])}')\n",
    "print(f'P(x_1 = 1, x_10 = -1) = {(1-q_star_large[0,-1]) * q_star_large[-1,-1]}')\n",
    "print(f'P(x_1 = -1, x_10 = -1) = {(1-q_star_large[0,-1]) * (1-q_star_large[-1,-1])}')"
   ]
  },
  {
   "cell_type": "markdown",
   "id": "4bbfbaa8",
   "metadata": {},
   "source": [
    "## Gibbs Sampling"
   ]
  },
  {
   "cell_type": "code",
   "execution_count": 5,
   "id": "4e1081e5",
   "metadata": {},
   "outputs": [],
   "source": [
    "def get_potential(n, beta, init, target, binary):\n",
    "    '''\n",
    "    input:\n",
    "        beta: beta value, int\n",
    "        ising: ising model, n x n numpy array\n",
    "        target: target varibale, [row, col], tuple/list/1d array with len = 2\n",
    "        binary: target binary value, either 1 or -1, int\n",
    "    '''\n",
    "    \n",
    "    row, col = target[0], target[1]\n",
    "    if col%(n-1)==0 and row%(n-1)==0: # 2 neighbours potential\n",
    "        if col < int(n/2) and row < int(n/2):\n",
    "            row_axis = (row+1, row)\n",
    "            col_axis = (col, col+1)\n",
    "        elif col > int(n/2) and row < int(n/2):\n",
    "            row_axis = (row+1, row)\n",
    "            col_axis = (col, col-1)\n",
    "        elif col < int(n/2) and row > int(n/2):\n",
    "            row_axis = (row-1, row)\n",
    "            col_axis = (col, col+1)\n",
    "        elif col > int(n/2) and row > int(n/2):\n",
    "            row_axis = (row-1, row)\n",
    "            col_axis = (col, col-1)\n",
    "    elif (col%(n-1)==0 and row%(n-1)!=0) or (row%(n-1)==0 and col%(n-1)!=0): # 3 neighbours potential\n",
    "        if row%(n-1)!=0 and col < int(n/2):\n",
    "            row_axis = (row-1, row, row+1)\n",
    "            col_axis = (col, col+1, col)\n",
    "        elif row%(n-1)!=0 and col > int(n/2):\n",
    "            row_axis = (row-1, row, row+1)\n",
    "            col_axis = (col, col-1, col)\n",
    "        elif col%(n-1)!=0 and row < int(n/2):\n",
    "            row_axis = (row, row+1, row)\n",
    "            col_axis = (col-1, col, col+1)\n",
    "        elif col%(n-1)!=0 and row > int(n/2):\n",
    "            row_axis = (row, row-1, row)\n",
    "            col_axis = (col-1, col, col+1)\n",
    "    else: # 4 neighbours potential\n",
    "        row_axis = (row, row, row+1, row-1)\n",
    "        col_axis = (col-1, col+1, col, col)\n",
    "    \n",
    "    pot = np.prod(np.exp(beta * (init[row_axis,col_axis]==binary)))\n",
    "    return pot\n",
    "\n",
    "\n",
    "def gibbs_sampling(n, beta, init):\n",
    "    '''\n",
    "    input:\n",
    "        beta: beta value, int\n",
    "        n: size of Icing model, n x n lattice, int\n",
    "        init: initialisation of Icing model, n x n numpy array\n",
    "    '''\n",
    "    iteration = 0\n",
    "    conv = 0\n",
    "    sample = []\n",
    "    \n",
    "    while conv < 20:\n",
    "        iteration += 1\n",
    "        init_old = np.copy(init)\n",
    "        for col in range(n):\n",
    "            for row in range(n):\n",
    "                pot_pos = get_potential(n, beta, init, (row,col), 1)\n",
    "                pot_neg = get_potential(n, beta, init, (row,col), -1)\n",
    "                prob_pos = pot_pos/(pot_pos + pot_neg)\n",
    "\n",
    "                if prob_pos < 0 or prob_pos > 1:\n",
    "                    print('Probability must be between 0 and 1')\n",
    "                    break\n",
    "\n",
    "                init[row,col] = np.random.choice([1,-1], p = (prob_pos, 1-prob_pos))\n",
    "\n",
    "        sample.append([init[0,-1], init[-1,-1]])\n",
    "\n",
    "        if np.array_equal(init_old, init):\n",
    "            conv += 1\n",
    "        else:\n",
    "            conv = 0\n",
    "\n",
    "        if iteration == 10000:\n",
    "            break\n",
    "\n",
    "    return np.array(sample), iteration"
   ]
  },
  {
   "cell_type": "markdown",
   "id": "0833c3d0",
   "metadata": {},
   "source": [
    "### $\\beta$ = 0.01"
   ]
  },
  {
   "cell_type": "code",
   "execution_count": 38,
   "id": "f6e9a870",
   "metadata": {},
   "outputs": [
    {
     "name": "stdout",
     "output_type": "stream",
     "text": [
      "First Trial\n",
      "P(x_1 = 1, x_10 = 1) = 0.250556875\n",
      "P(x_1 = -1, x_10 = 1) = 0.247568125\n",
      "P(x_1 = 1, x_10 = -1) = 0.25244312500000005\n",
      "P(x_1 = -1, x_10 = -1) = 0.24943187500000003\n"
     ]
    }
   ],
   "source": [
    "n = 10\n",
    "beta = 0.01\n",
    "init = np.random.choice([1,-1], size=(n,n))\n",
    "\n",
    "gib_samp_small, iter_small = gibbs_sampling(n, beta, init)\n",
    "\n",
    "x1 = (gib_samp_small[int(iter_small*0.2):,0] == 1).sum() / len(gib_samp_small[int(iter_small*0.2):,0]) # P(x_1 = 1)\n",
    "x10 = (gib_samp_small[int(iter_small*0.2):,1] == 1).sum() / len(gib_samp_small[int(iter_small*0.2):,1]) # P(x_10 = 1)\n",
    "\n",
    "print('First Trial')\n",
    "print(f'P(x_1 = 1, x_10 = 1) = {x1 * x10}')\n",
    "print(f'P(x_1 = -1, x_10 = 1) = {(1-x1) * x10}')\n",
    "print(f'P(x_1 = 1, x_10 = -1) = {x1 * (1-x10)}')\n",
    "print(f'P(x_1 = -1, x_10 = -1) = {(1-x1) * (1-x10)}')"
   ]
  },
  {
   "cell_type": "code",
   "execution_count": 7,
   "id": "7c57771c",
   "metadata": {},
   "outputs": [
    {
     "name": "stdout",
     "output_type": "stream",
     "text": [
      "First Trial\n",
      "P(x_1 = 1, x_10 = 1) = 0.24525\n",
      "P(x_1 = -1, x_10 = 1) = 0.24975\n",
      "P(x_1 = 1, x_10 = -1) = 0.250875\n",
      "P(x_1 = -1, x_10 = -1) = 0.254125\n"
     ]
    }
   ],
   "source": [
    "n = 10\n",
    "beta = 0.01\n",
    "init = np.random.choice([1,-1], size=(n,n))\n",
    "\n",
    "gib_samp_small, iter_small = gibbs_sampling(n, beta, init)\n",
    "\n",
    "pos_pos = np.logical_and((gib_samp_small[int(iter_small*0.2):,0] == 1),(gib_samp_small[int(iter_small*0.2):,1] == 1)).sum()\n",
    "neg_pos = np.logical_and((gib_samp_small[int(iter_small*0.2):,0] == -1),(gib_samp_small[int(iter_small*0.2):,1] == 1)).sum()\n",
    "pos_neg = np.logical_and((gib_samp_small[int(iter_small*0.2):,0] == 1),(gib_samp_small[int(iter_small*0.2):,1] == -1)).sum()\n",
    "neg_neg = np.logical_and((gib_samp_small[int(iter_small*0.2):,0] == -1),(gib_samp_small[int(iter_small*0.2):,1] == -1)).sum()\n",
    "total_epoch = len(gib_samp_small[int(iter_small*0.2):,0])\n",
    "\n",
    "print('First Trial')\n",
    "print(f'P(x_1 = 1, x_10 = 1) = {pos_pos / total_epoch}')\n",
    "print(f'P(x_1 = -1, x_10 = 1) = {neg_pos / total_epoch}')\n",
    "print(f'P(x_1 = 1, x_10 = -1) = {pos_neg / total_epoch}')\n",
    "print(f'P(x_1 = -1, x_10 = -1) = {neg_neg / total_epoch}')"
   ]
  },
  {
   "cell_type": "code",
   "execution_count": 8,
   "id": "f831017d",
   "metadata": {},
   "outputs": [
    {
     "name": "stdout",
     "output_type": "stream",
     "text": [
      "Second Trial\n",
      "P(x_1 = 1, x_10 = 1) = 0.240125\n",
      "P(x_1 = -1, x_10 = 1) = 0.248\n",
      "P(x_1 = 1, x_10 = -1) = 0.258\n",
      "P(x_1 = -1, x_10 = -1) = 0.253875\n"
     ]
    }
   ],
   "source": [
    "n = 10\n",
    "beta = 0.01\n",
    "init = np.random.choice([1,-1], size=(n,n))\n",
    "\n",
    "gib_samp_small, iter_small = gibbs_sampling(n, beta, init)\n",
    "\n",
    "pos_pos = np.logical_and((gib_samp_small[int(iter_small*0.2):,0] == 1),(gib_samp_small[int(iter_small*0.2):,1] == 1)).sum()\n",
    "neg_pos = np.logical_and((gib_samp_small[int(iter_small*0.2):,0] == -1),(gib_samp_small[int(iter_small*0.2):,1] == 1)).sum()\n",
    "pos_neg = np.logical_and((gib_samp_small[int(iter_small*0.2):,0] == 1),(gib_samp_small[int(iter_small*0.2):,1] == -1)).sum()\n",
    "neg_neg = np.logical_and((gib_samp_small[int(iter_small*0.2):,0] == -1),(gib_samp_small[int(iter_small*0.2):,1] == -1)).sum()\n",
    "total_epoch = len(gib_samp_small[int(iter_small*0.2):,0])\n",
    "\n",
    "print('Second Trial')\n",
    "print(f'P(x_1 = 1, x_10 = 1) = {pos_pos / total_epoch}')\n",
    "print(f'P(x_1 = -1, x_10 = 1) = {neg_pos / total_epoch}')\n",
    "print(f'P(x_1 = 1, x_10 = -1) = {pos_neg / total_epoch}')\n",
    "print(f'P(x_1 = -1, x_10 = -1) = {neg_neg / total_epoch}')"
   ]
  },
  {
   "cell_type": "code",
   "execution_count": 9,
   "id": "0563f875",
   "metadata": {},
   "outputs": [
    {
     "name": "stdout",
     "output_type": "stream",
     "text": [
      "Third Trial\n",
      "P(x_1 = 1, x_10 = 1) = 0.242875\n",
      "P(x_1 = -1, x_10 = 1) = 0.24925\n",
      "P(x_1 = 1, x_10 = -1) = 0.245625\n",
      "P(x_1 = -1, x_10 = -1) = 0.26225\n"
     ]
    }
   ],
   "source": [
    "n = 10\n",
    "beta = 0.01\n",
    "init = np.random.choice([1,-1], size=(n,n))\n",
    "\n",
    "gib_samp_small, iter_small = gibbs_sampling(n, beta, init)\n",
    "\n",
    "pos_pos = np.logical_and((gib_samp_small[int(iter_small*0.2):,0] == 1),(gib_samp_small[int(iter_small*0.2):,1] == 1)).sum()\n",
    "neg_pos = np.logical_and((gib_samp_small[int(iter_small*0.2):,0] == -1),(gib_samp_small[int(iter_small*0.2):,1] == 1)).sum()\n",
    "pos_neg = np.logical_and((gib_samp_small[int(iter_small*0.2):,0] == 1),(gib_samp_small[int(iter_small*0.2):,1] == -1)).sum()\n",
    "neg_neg = np.logical_and((gib_samp_small[int(iter_small*0.2):,0] == -1),(gib_samp_small[int(iter_small*0.2):,1] == -1)).sum()\n",
    "total_epoch = len(gib_samp_small[int(iter_small*0.2):,0])\n",
    "\n",
    "print('Third Trial')\n",
    "print(f'P(x_1 = 1, x_10 = 1) = {pos_pos / total_epoch}')\n",
    "print(f'P(x_1 = -1, x_10 = 1) = {neg_pos / total_epoch}')\n",
    "print(f'P(x_1 = 1, x_10 = -1) = {pos_neg / total_epoch}')\n",
    "print(f'P(x_1 = -1, x_10 = -1) = {neg_neg / total_epoch}')"
   ]
  },
  {
   "cell_type": "code",
   "execution_count": 10,
   "id": "2ad11352",
   "metadata": {},
   "outputs": [
    {
     "name": "stdout",
     "output_type": "stream",
     "text": [
      "Fourth Trial\n",
      "P(x_1 = 1, x_10 = 1) = 0.25375\n",
      "P(x_1 = -1, x_10 = 1) = 0.25175\n",
      "P(x_1 = 1, x_10 = -1) = 0.245375\n",
      "P(x_1 = -1, x_10 = -1) = 0.249125\n"
     ]
    }
   ],
   "source": [
    "n = 10\n",
    "beta = 0.01\n",
    "init = np.random.choice([1,-1], size=(n,n))\n",
    "\n",
    "gib_samp_small, iter_small = gibbs_sampling(n, beta, init)\n",
    "\n",
    "pos_pos = np.logical_and((gib_samp_small[int(iter_small*0.2):,0] == 1),(gib_samp_small[int(iter_small*0.2):,1] == 1)).sum()\n",
    "neg_pos = np.logical_and((gib_samp_small[int(iter_small*0.2):,0] == -1),(gib_samp_small[int(iter_small*0.2):,1] == 1)).sum()\n",
    "pos_neg = np.logical_and((gib_samp_small[int(iter_small*0.2):,0] == 1),(gib_samp_small[int(iter_small*0.2):,1] == -1)).sum()\n",
    "neg_neg = np.logical_and((gib_samp_small[int(iter_small*0.2):,0] == -1),(gib_samp_small[int(iter_small*0.2):,1] == -1)).sum()\n",
    "total_epoch = len(gib_samp_small[int(iter_small*0.2):,0])\n",
    "\n",
    "print('Fourth Trial')\n",
    "print(f'P(x_1 = 1, x_10 = 1) = {pos_pos / total_epoch}')\n",
    "print(f'P(x_1 = -1, x_10 = 1) = {neg_pos / total_epoch}')\n",
    "print(f'P(x_1 = 1, x_10 = -1) = {pos_neg / total_epoch}')\n",
    "print(f'P(x_1 = -1, x_10 = -1) = {neg_neg / total_epoch}')"
   ]
  },
  {
   "cell_type": "code",
   "execution_count": 11,
   "id": "81f85a5c",
   "metadata": {},
   "outputs": [
    {
     "name": "stdout",
     "output_type": "stream",
     "text": [
      "Fifth Trial\n",
      "P(x_1 = 1, x_10 = 1) = 0.251125\n",
      "P(x_1 = -1, x_10 = 1) = 0.25425\n",
      "P(x_1 = 1, x_10 = -1) = 0.2475\n",
      "P(x_1 = -1, x_10 = -1) = 0.247125\n"
     ]
    }
   ],
   "source": [
    "n = 10\n",
    "beta = 0.01\n",
    "init = np.random.choice([1,-1], size=(n,n))\n",
    "\n",
    "gib_samp_small, iter_small = gibbs_sampling(n, beta, init)\n",
    "\n",
    "pos_pos = np.logical_and((gib_samp_small[int(iter_small*0.2):,0] == 1),(gib_samp_small[int(iter_small*0.2):,1] == 1)).sum()\n",
    "neg_pos = np.logical_and((gib_samp_small[int(iter_small*0.2):,0] == -1),(gib_samp_small[int(iter_small*0.2):,1] == 1)).sum()\n",
    "pos_neg = np.logical_and((gib_samp_small[int(iter_small*0.2):,0] == 1),(gib_samp_small[int(iter_small*0.2):,1] == -1)).sum()\n",
    "neg_neg = np.logical_and((gib_samp_small[int(iter_small*0.2):,0] == -1),(gib_samp_small[int(iter_small*0.2):,1] == -1)).sum()\n",
    "total_epoch = len(gib_samp_small[int(iter_small*0.2):,0])\n",
    "\n",
    "print('Fifth Trial')\n",
    "print(f'P(x_1 = 1, x_10 = 1) = {pos_pos / total_epoch}')\n",
    "print(f'P(x_1 = -1, x_10 = 1) = {neg_pos / total_epoch}')\n",
    "print(f'P(x_1 = 1, x_10 = -1) = {pos_neg / total_epoch}')\n",
    "print(f'P(x_1 = -1, x_10 = -1) = {neg_neg / total_epoch}')"
   ]
  },
  {
   "cell_type": "markdown",
   "id": "7ca72e1d",
   "metadata": {},
   "source": [
    "### $\\beta$ = 1"
   ]
  },
  {
   "cell_type": "code",
   "execution_count": 12,
   "id": "87fef4be",
   "metadata": {},
   "outputs": [
    {
     "name": "stdout",
     "output_type": "stream",
     "text": [
      "First Trial\n",
      "P(x_1 = 1, x_10 = 1) = 0.2115\n",
      "P(x_1 = -1, x_10 = 1) = 0.236\n",
      "P(x_1 = 1, x_10 = -1) = 0.209625\n",
      "P(x_1 = -1, x_10 = -1) = 0.342875\n"
     ]
    }
   ],
   "source": [
    "n = 10\n",
    "beta = 1\n",
    "init = np.random.choice([1,-1], size=(n,n))\n",
    "\n",
    "gib_samp_mid, iter_mid = gibbs_sampling(n, beta, init)\n",
    "\n",
    "pos_pos = np.logical_and((gib_samp_mid[int(iter_mid*0.2):,0] == 1),(gib_samp_mid[int(iter_mid*0.2):,1] == 1)).sum()\n",
    "neg_pos = np.logical_and((gib_samp_mid[int(iter_mid*0.2):,0] == -1),(gib_samp_mid[int(iter_mid*0.2):,1] == 1)).sum()\n",
    "pos_neg = np.logical_and((gib_samp_mid[int(iter_mid*0.2):,0] == 1),(gib_samp_mid[int(iter_mid*0.2):,1] == -1)).sum()\n",
    "neg_neg = np.logical_and((gib_samp_mid[int(iter_mid*0.2):,0] == -1),(gib_samp_mid[int(iter_mid*0.2):,1] == -1)).sum()\n",
    "total_epoch = len(gib_samp_mid[int(iter_mid*0.2):,0])\n",
    "\n",
    "print('First Trial')\n",
    "print(f'P(x_1 = 1, x_10 = 1) = {pos_pos / total_epoch}')\n",
    "print(f'P(x_1 = -1, x_10 = 1) = {neg_pos / total_epoch}')\n",
    "print(f'P(x_1 = 1, x_10 = -1) = {pos_neg / total_epoch}')\n",
    "print(f'P(x_1 = -1, x_10 = -1) = {neg_neg / total_epoch}')"
   ]
  },
  {
   "cell_type": "code",
   "execution_count": 13,
   "id": "1eb4feff",
   "metadata": {},
   "outputs": [
    {
     "name": "stdout",
     "output_type": "stream",
     "text": [
      "Second Trial\n",
      "P(x_1 = 1, x_10 = 1) = 0.220875\n",
      "P(x_1 = -1, x_10 = 1) = 0.229625\n",
      "P(x_1 = 1, x_10 = -1) = 0.2165\n",
      "P(x_1 = -1, x_10 = -1) = 0.333\n"
     ]
    }
   ],
   "source": [
    "n = 10\n",
    "beta = 1\n",
    "init = np.random.choice([1,-1], size=(n,n))\n",
    "\n",
    "gib_samp_mid, iter_mid = gibbs_sampling(n, beta, init)\n",
    "\n",
    "pos_pos = np.logical_and((gib_samp_mid[int(iter_mid*0.2):,0] == 1),(gib_samp_mid[int(iter_mid*0.2):,1] == 1)).sum()\n",
    "neg_pos = np.logical_and((gib_samp_mid[int(iter_mid*0.2):,0] == -1),(gib_samp_mid[int(iter_mid*0.2):,1] == 1)).sum()\n",
    "pos_neg = np.logical_and((gib_samp_mid[int(iter_mid*0.2):,0] == 1),(gib_samp_mid[int(iter_mid*0.2):,1] == -1)).sum()\n",
    "neg_neg = np.logical_and((gib_samp_mid[int(iter_mid*0.2):,0] == -1),(gib_samp_mid[int(iter_mid*0.2):,1] == -1)).sum()\n",
    "total_epoch = len(gib_samp_mid[int(iter_mid*0.2):,0])\n",
    "\n",
    "print('Second Trial')\n",
    "print(f'P(x_1 = 1, x_10 = 1) = {pos_pos / total_epoch}')\n",
    "print(f'P(x_1 = -1, x_10 = 1) = {neg_pos / total_epoch}')\n",
    "print(f'P(x_1 = 1, x_10 = -1) = {pos_neg / total_epoch}')\n",
    "print(f'P(x_1 = -1, x_10 = -1) = {neg_neg / total_epoch}')"
   ]
  },
  {
   "cell_type": "code",
   "execution_count": 14,
   "id": "749dc1ca",
   "metadata": {},
   "outputs": [
    {
     "name": "stdout",
     "output_type": "stream",
     "text": [
      "Third Trial\n",
      "P(x_1 = 1, x_10 = 1) = 0.270125\n",
      "P(x_1 = -1, x_10 = 1) = 0.2175\n",
      "P(x_1 = 1, x_10 = -1) = 0.220375\n",
      "P(x_1 = -1, x_10 = -1) = 0.292\n"
     ]
    }
   ],
   "source": [
    "n = 10\n",
    "beta = 1\n",
    "init = np.random.choice([1,-1], size=(n,n))\n",
    "\n",
    "gib_samp_mid, iter_mid = gibbs_sampling(n, beta, init)\n",
    "\n",
    "pos_pos = np.logical_and((gib_samp_mid[int(iter_mid*0.2):,0] == 1),(gib_samp_mid[int(iter_mid*0.2):,1] == 1)).sum()\n",
    "neg_pos = np.logical_and((gib_samp_mid[int(iter_mid*0.2):,0] == -1),(gib_samp_mid[int(iter_mid*0.2):,1] == 1)).sum()\n",
    "pos_neg = np.logical_and((gib_samp_mid[int(iter_mid*0.2):,0] == 1),(gib_samp_mid[int(iter_mid*0.2):,1] == -1)).sum()\n",
    "neg_neg = np.logical_and((gib_samp_mid[int(iter_mid*0.2):,0] == -1),(gib_samp_mid[int(iter_mid*0.2):,1] == -1)).sum()\n",
    "total_epoch = len(gib_samp_mid[int(iter_mid*0.2):,0])\n",
    "\n",
    "print('Third Trial')\n",
    "print(f'P(x_1 = 1, x_10 = 1) = {pos_pos / total_epoch}')\n",
    "print(f'P(x_1 = -1, x_10 = 1) = {neg_pos / total_epoch}')\n",
    "print(f'P(x_1 = 1, x_10 = -1) = {pos_neg / total_epoch}')\n",
    "print(f'P(x_1 = -1, x_10 = -1) = {neg_neg / total_epoch}')"
   ]
  },
  {
   "cell_type": "code",
   "execution_count": 15,
   "id": "7da1e674",
   "metadata": {},
   "outputs": [
    {
     "name": "stdout",
     "output_type": "stream",
     "text": [
      "Fourth Trial\n",
      "P(x_1 = 1, x_10 = 1) = 0.272\n",
      "P(x_1 = -1, x_10 = 1) = 0.218875\n",
      "P(x_1 = 1, x_10 = -1) = 0.223875\n",
      "P(x_1 = -1, x_10 = -1) = 0.28525\n"
     ]
    }
   ],
   "source": [
    "n = 10\n",
    "beta = 1\n",
    "init = np.random.choice([1,-1], size=(n,n))\n",
    "\n",
    "gib_samp_mid, iter_mid = gibbs_sampling(n, beta, init)\n",
    "\n",
    "pos_pos = np.logical_and((gib_samp_mid[int(iter_mid*0.2):,0] == 1),(gib_samp_mid[int(iter_mid*0.2):,1] == 1)).sum()\n",
    "neg_pos = np.logical_and((gib_samp_mid[int(iter_mid*0.2):,0] == -1),(gib_samp_mid[int(iter_mid*0.2):,1] == 1)).sum()\n",
    "pos_neg = np.logical_and((gib_samp_mid[int(iter_mid*0.2):,0] == 1),(gib_samp_mid[int(iter_mid*0.2):,1] == -1)).sum()\n",
    "neg_neg = np.logical_and((gib_samp_mid[int(iter_mid*0.2):,0] == -1),(gib_samp_mid[int(iter_mid*0.2):,1] == -1)).sum()\n",
    "total_epoch = len(gib_samp_mid[int(iter_mid*0.2):,0])\n",
    "\n",
    "print('Fourth Trial')\n",
    "print(f'P(x_1 = 1, x_10 = 1) = {pos_pos / total_epoch}')\n",
    "print(f'P(x_1 = -1, x_10 = 1) = {neg_pos / total_epoch}')\n",
    "print(f'P(x_1 = 1, x_10 = -1) = {pos_neg / total_epoch}')\n",
    "print(f'P(x_1 = -1, x_10 = -1) = {neg_neg / total_epoch}')"
   ]
  },
  {
   "cell_type": "code",
   "execution_count": 16,
   "id": "741a9796",
   "metadata": {},
   "outputs": [
    {
     "name": "stdout",
     "output_type": "stream",
     "text": [
      "Fifth Trial\n",
      "P(x_1 = 1, x_10 = 1) = 0.30425\n",
      "P(x_1 = -1, x_10 = 1) = 0.21675\n",
      "P(x_1 = 1, x_10 = -1) = 0.212125\n",
      "P(x_1 = -1, x_10 = -1) = 0.266875\n"
     ]
    }
   ],
   "source": [
    "n = 10\n",
    "beta = 1\n",
    "init = np.random.choice([1,-1], size=(n,n))\n",
    "\n",
    "gib_samp_mid, iter_mid = gibbs_sampling(n, beta, init)\n",
    "\n",
    "pos_pos = np.logical_and((gib_samp_mid[int(iter_mid*0.2):,0] == 1),(gib_samp_mid[int(iter_mid*0.2):,1] == 1)).sum()\n",
    "neg_pos = np.logical_and((gib_samp_mid[int(iter_mid*0.2):,0] == -1),(gib_samp_mid[int(iter_mid*0.2):,1] == 1)).sum()\n",
    "pos_neg = np.logical_and((gib_samp_mid[int(iter_mid*0.2):,0] == 1),(gib_samp_mid[int(iter_mid*0.2):,1] == -1)).sum()\n",
    "neg_neg = np.logical_and((gib_samp_mid[int(iter_mid*0.2):,0] == -1),(gib_samp_mid[int(iter_mid*0.2):,1] == -1)).sum()\n",
    "total_epoch = len(gib_samp_mid[int(iter_mid*0.2):,0])\n",
    "\n",
    "print('Fifth Trial')\n",
    "print(f'P(x_1 = 1, x_10 = 1) = {pos_pos / total_epoch}')\n",
    "print(f'P(x_1 = -1, x_10 = 1) = {neg_pos / total_epoch}')\n",
    "print(f'P(x_1 = 1, x_10 = -1) = {pos_neg / total_epoch}')\n",
    "print(f'P(x_1 = -1, x_10 = -1) = {neg_neg / total_epoch}')"
   ]
  },
  {
   "cell_type": "markdown",
   "id": "9aaa94b5",
   "metadata": {},
   "source": [
    "### $\\beta$ = 4"
   ]
  },
  {
   "cell_type": "code",
   "execution_count": 17,
   "id": "d470be5b",
   "metadata": {},
   "outputs": [
    {
     "name": "stdout",
     "output_type": "stream",
     "text": [
      "First Trial\n",
      "P(x_1 = 1, x_10 = 1) = 1.0\n",
      "P(x_1 = -1, x_10 = 1) = 0.0\n",
      "P(x_1 = 1, x_10 = -1) = 0.0\n",
      "P(x_1 = -1, x_10 = -1) = 0.0\n"
     ]
    }
   ],
   "source": [
    "n = 10\n",
    "beta = 4\n",
    "init = np.random.choice([1,-1], size=(n,n))\n",
    "\n",
    "gib_samp_large, iter_large = gibbs_sampling(n, beta, init)\n",
    "\n",
    "pos_pos = np.logical_and((gib_samp_large[int(iter_large*0.2):,0] == 1),(gib_samp_large[int(iter_large*0.2):,1] == 1)).sum()\n",
    "neg_pos = np.logical_and((gib_samp_large[int(iter_large*0.2):,0] == -1),(gib_samp_large[int(iter_large*0.2):,1] == 1)).sum()\n",
    "pos_neg = np.logical_and((gib_samp_large[int(iter_large*0.2):,0] == 1),(gib_samp_large[int(iter_large*0.2):,1] == -1)).sum()\n",
    "neg_neg = np.logical_and((gib_samp_large[int(iter_large*0.2):,0] == -1),(gib_samp_large[int(iter_large*0.2):,1] == -1)).sum()\n",
    "total_epoch = len(gib_samp_large[int(iter_large*0.2):,0])\n",
    "\n",
    "print('First Trial')\n",
    "print(f'P(x_1 = 1, x_10 = 1) = {pos_pos / total_epoch}')\n",
    "print(f'P(x_1 = -1, x_10 = 1) = {neg_pos / total_epoch}')\n",
    "print(f'P(x_1 = 1, x_10 = -1) = {pos_neg / total_epoch}')\n",
    "print(f'P(x_1 = -1, x_10 = -1) = {neg_neg / total_epoch}')"
   ]
  },
  {
   "cell_type": "code",
   "execution_count": 24,
   "id": "59462a1f",
   "metadata": {},
   "outputs": [
    {
     "name": "stdout",
     "output_type": "stream",
     "text": [
      "Second Trial\n",
      "P(x_1 = 1, x_10 = 1) = 0.0\n",
      "P(x_1 = -1, x_10 = 1) = 0.0\n",
      "P(x_1 = 1, x_10 = -1) = 0.0\n",
      "P(x_1 = -1, x_10 = -1) = 1.0\n"
     ]
    }
   ],
   "source": [
    "n = 10\n",
    "beta = 4\n",
    "init = np.random.choice([1,-1], size=(n,n))\n",
    "\n",
    "gib_samp_large, iter_large = gibbs_sampling(n, beta, init)\n",
    "\n",
    "pos_pos = np.logical_and((gib_samp_large[int(iter_large*0.2):,0] == 1),(gib_samp_large[int(iter_large*0.2):,1] == 1)).sum()\n",
    "neg_pos = np.logical_and((gib_samp_large[int(iter_large*0.2):,0] == -1),(gib_samp_large[int(iter_large*0.2):,1] == 1)).sum()\n",
    "pos_neg = np.logical_and((gib_samp_large[int(iter_large*0.2):,0] == 1),(gib_samp_large[int(iter_large*0.2):,1] == -1)).sum()\n",
    "neg_neg = np.logical_and((gib_samp_large[int(iter_large*0.2):,0] == -1),(gib_samp_large[int(iter_large*0.2):,1] == -1)).sum()\n",
    "total_epoch = len(gib_samp_large[int(iter_large*0.2):,0])\n",
    "\n",
    "print('Second Trial')\n",
    "print(f'P(x_1 = 1, x_10 = 1) = {pos_pos / total_epoch}')\n",
    "print(f'P(x_1 = -1, x_10 = 1) = {neg_pos / total_epoch}')\n",
    "print(f'P(x_1 = 1, x_10 = -1) = {pos_neg / total_epoch}')\n",
    "print(f'P(x_1 = -1, x_10 = -1) = {neg_neg / total_epoch}')"
   ]
  },
  {
   "cell_type": "code",
   "execution_count": 25,
   "id": "a993d88f",
   "metadata": {},
   "outputs": [
    {
     "name": "stdout",
     "output_type": "stream",
     "text": [
      "Third Trial\n",
      "P(x_1 = 1, x_10 = 1) = 0.0\n",
      "P(x_1 = -1, x_10 = 1) = 0.0\n",
      "P(x_1 = 1, x_10 = -1) = 0.0\n",
      "P(x_1 = -1, x_10 = -1) = 1.0\n"
     ]
    }
   ],
   "source": [
    "n = 10\n",
    "beta = 4\n",
    "init = np.random.choice([1,-1], size=(n,n))\n",
    "\n",
    "gib_samp_large, iter_large = gibbs_sampling(n, beta, init)\n",
    "\n",
    "pos_pos = np.logical_and((gib_samp_large[int(iter_large*0.2):,0] == 1),(gib_samp_large[int(iter_large*0.2):,1] == 1)).sum()\n",
    "neg_pos = np.logical_and((gib_samp_large[int(iter_large*0.2):,0] == -1),(gib_samp_large[int(iter_large*0.2):,1] == 1)).sum()\n",
    "pos_neg = np.logical_and((gib_samp_large[int(iter_large*0.2):,0] == 1),(gib_samp_large[int(iter_large*0.2):,1] == -1)).sum()\n",
    "neg_neg = np.logical_and((gib_samp_large[int(iter_large*0.2):,0] == -1),(gib_samp_large[int(iter_large*0.2):,1] == -1)).sum()\n",
    "total_epoch = len(gib_samp_large[int(iter_large*0.2):,0])\n",
    "\n",
    "print('Third Trial')\n",
    "print(f'P(x_1 = 1, x_10 = 1) = {pos_pos / total_epoch}')\n",
    "print(f'P(x_1 = -1, x_10 = 1) = {neg_pos / total_epoch}')\n",
    "print(f'P(x_1 = 1, x_10 = -1) = {pos_neg / total_epoch}')\n",
    "print(f'P(x_1 = -1, x_10 = -1) = {neg_neg / total_epoch}')"
   ]
  },
  {
   "cell_type": "code",
   "execution_count": 27,
   "id": "f93a4d93",
   "metadata": {},
   "outputs": [
    {
     "name": "stdout",
     "output_type": "stream",
     "text": [
      "Fourth Trial\n",
      "P(x_1 = 1, x_10 = 1) = 1.0\n",
      "P(x_1 = -1, x_10 = 1) = 0.0\n",
      "P(x_1 = 1, x_10 = -1) = 0.0\n",
      "P(x_1 = -1, x_10 = -1) = 0.0\n"
     ]
    }
   ],
   "source": [
    "n = 10\n",
    "beta = 4\n",
    "init = np.random.choice([1,-1], size=(n,n))\n",
    "\n",
    "gib_samp_large, iter_large = gibbs_sampling(n, beta, init)\n",
    "\n",
    "pos_pos = np.logical_and((gib_samp_large[int(iter_large*0.2):,0] == 1),(gib_samp_large[int(iter_large*0.2):,1] == 1)).sum()\n",
    "neg_pos = np.logical_and((gib_samp_large[int(iter_large*0.2):,0] == -1),(gib_samp_large[int(iter_large*0.2):,1] == 1)).sum()\n",
    "pos_neg = np.logical_and((gib_samp_large[int(iter_large*0.2):,0] == 1),(gib_samp_large[int(iter_large*0.2):,1] == -1)).sum()\n",
    "neg_neg = np.logical_and((gib_samp_large[int(iter_large*0.2):,0] == -1),(gib_samp_large[int(iter_large*0.2):,1] == -1)).sum()\n",
    "total_epoch = len(gib_samp_large[int(iter_large*0.2):,0])\n",
    "\n",
    "print('Fourth Trial')\n",
    "print(f'P(x_1 = 1, x_10 = 1) = {pos_pos / total_epoch}')\n",
    "print(f'P(x_1 = -1, x_10 = 1) = {neg_pos / total_epoch}')\n",
    "print(f'P(x_1 = 1, x_10 = -1) = {pos_neg / total_epoch}')\n",
    "print(f'P(x_1 = -1, x_10 = -1) = {neg_neg / total_epoch}')"
   ]
  },
  {
   "cell_type": "code",
   "execution_count": 35,
   "id": "778e6787",
   "metadata": {},
   "outputs": [
    {
     "name": "stdout",
     "output_type": "stream",
     "text": [
      "Fifth Trial\n",
      "P(x_1 = 1, x_10 = 1) = 0.0\n",
      "P(x_1 = -1, x_10 = 1) = 0.0\n",
      "P(x_1 = 1, x_10 = -1) = 0.0\n",
      "P(x_1 = -1, x_10 = -1) = 1.0\n"
     ]
    }
   ],
   "source": [
    "n = 10\n",
    "beta = 4\n",
    "init = np.random.choice([1,-1], size=(n,n))\n",
    "\n",
    "gib_samp_large, iter_large = gibbs_sampling(n, beta, init)\n",
    "\n",
    "pos_pos = np.logical_and((gib_samp_large[int(iter_large*0.2):,0] == 1),(gib_samp_large[int(iter_large*0.2):,1] == 1)).sum()\n",
    "neg_pos = np.logical_and((gib_samp_large[int(iter_large*0.2):,0] == -1),(gib_samp_large[int(iter_large*0.2):,1] == 1)).sum()\n",
    "pos_neg = np.logical_and((gib_samp_large[int(iter_large*0.2):,0] == 1),(gib_samp_large[int(iter_large*0.2):,1] == -1)).sum()\n",
    "neg_neg = np.logical_and((gib_samp_large[int(iter_large*0.2):,0] == -1),(gib_samp_large[int(iter_large*0.2):,1] == -1)).sum()\n",
    "total_epoch = len(gib_samp_large[int(iter_large*0.2):,0])\n",
    "\n",
    "print('Fifth Trial')\n",
    "print(f'P(x_1 = 1, x_10 = 1) = {pos_pos / total_epoch}')\n",
    "print(f'P(x_1 = -1, x_10 = 1) = {neg_pos / total_epoch}')\n",
    "print(f'P(x_1 = 1, x_10 = -1) = {pos_neg / total_epoch}')\n",
    "print(f'P(x_1 = -1, x_10 = -1) = {neg_neg / total_epoch}')"
   ]
  },
  {
   "cell_type": "code",
   "execution_count": null,
   "id": "2116fd17",
   "metadata": {},
   "outputs": [],
   "source": []
  }
 ],
 "metadata": {
  "kernelspec": {
   "display_name": "Python 3 (ipykernel)",
   "language": "python",
   "name": "python3"
  },
  "language_info": {
   "codemirror_mode": {
    "name": "ipython",
    "version": 3
   },
   "file_extension": ".py",
   "mimetype": "text/x-python",
   "name": "python",
   "nbconvert_exporter": "python",
   "pygments_lexer": "ipython3",
   "version": "3.10.13"
  }
 },
 "nbformat": 4,
 "nbformat_minor": 5
}
