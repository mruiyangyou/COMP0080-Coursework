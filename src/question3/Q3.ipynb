{
 "cells": [
  {
   "cell_type": "code",
   "execution_count": 1,
   "id": "88c512d3",
   "metadata": {},
   "outputs": [],
   "source": [
    "import numpy as np"
   ]
  },
  {
   "cell_type": "markdown",
   "id": "5bc7e950",
   "metadata": {},
   "source": [
    "## Exact Inference"
   ]
  },
  {
   "cell_type": "code",
   "execution_count": 2,
   "id": "11119b18",
   "metadata": {},
   "outputs": [],
   "source": [
    "def neighbour_potential(beta):\n",
    "    table = np.ones((2,2))\n",
    "    for x in range(0,2):\n",
    "        for y in range(0,2):\n",
    "            table[x,y] = np.exp(beta*1*(x==y)) \n",
    "    return table\n",
    "\n",
    "def col_pot(n, beta):\n",
    "    if n<2:\n",
    "        raise Exception('n must be at least 2 (n: number of nodes)')\n",
    "    pot = neighbour_potential(beta).reshape(-1)\n",
    "    for _ in range(2,n):\n",
    "        shape = pot.shape[0]\n",
    "        pot_top = pot[:int(shape/2)]\n",
    "        pot_bottom = pot_top[::-1] # reverse the order of pot_top, equivalent to pot[int(shape/2):]\n",
    "        new_pot_top = pot_top * np.exp(1)\n",
    "        new_pot_bottom = pot_bottom * 1\n",
    "        new_pot_half = np.concatenate((new_pot_top,new_pot_bottom))\n",
    "        pot = np.concatenate((new_pot_half, new_pot_half[::-1]))\n",
    "    return pot\n",
    "\n",
    "def var_to_var(n, beta):\n",
    "    count_list = []\n",
    "    max_len = len(bin(2**n-1)[2:])\n",
    "    for col2 in range(2**n):\n",
    "        col2_bin = bin(col2)[2:]\n",
    "        l2 = len(col2_bin)\n",
    "        if l2 < max_len:\n",
    "            col2_bin = '0'*(max_len-l2) + col2_bin\n",
    "        for col1 in range(2**n):\n",
    "            col1_bin = bin(col1)[2:]\n",
    "            l1 = len(col1_bin)\n",
    "            if l1 < max_len:\n",
    "                col1_bin = '0'*(max_len-l1) + col1_bin\n",
    "            count = sum(bit2 == bit1 for bit2, bit1 in zip(col2_bin, col1_bin))\n",
    "            count_list.append(np.exp(count))\n",
    "    count_list = np.array(count_list).reshape(2**n,2**n)\n",
    "    return count_list\n",
    "\n",
    "def cal_prob(n, beta):\n",
    "    '''\n",
    "    n : length/width of lattice where size = length x width\n",
    "    beta\n",
    "    '''\n",
    "    factor_graph = 1\n",
    "        \n",
    "    for _ in range(n-1):\n",
    "        f = col_pot(n,beta) # column potential i.e. x_prime\n",
    "        g = var_to_var(n,beta) # variable to variable g(x_i-1, x_i)\n",
    "        factor_graph = np.multiply(g @ f, factor_graph)\n",
    "    \n",
    "    marginal_col = np.multiply(col_pot(n, beta), factor_graph).reshape([2 for i in range(n)])\n",
    "    marginal_1_10 = marginal_col.sum(tuple([i for i in range(1,n-1)]))\n",
    "    \n",
    "    total_prob = marginal_1_10.sum()\n",
    "    marginal = marginal_1_10 / total_prob\n",
    "    \n",
    "    assert marginal.shape == (2,2)\n",
    "    \n",
    "    return marginal"
   ]
  },
  {
   "cell_type": "markdown",
   "id": "9cb961f4",
   "metadata": {},
   "source": [
    "### $\\beta$ = 0.01"
   ]
  },
  {
   "cell_type": "code",
   "execution_count": 3,
   "id": "16ed415f",
   "metadata": {},
   "outputs": [
    {
     "ename": "KeyboardInterrupt",
     "evalue": "",
     "output_type": "error",
     "traceback": [
      "\u001b[0;31m---------------------------------------------------------------------------\u001b[0m",
      "\u001b[0;31mKeyboardInterrupt\u001b[0m                         Traceback (most recent call last)",
      "\u001b[0;32m/var/folders/zw/7nv8d16j6hg578ch_bvxrqb00000gn/T/ipykernel_42782/2731778202.py\u001b[0m in \u001b[0;36m<module>\u001b[0;34m\u001b[0m\n\u001b[1;32m      1\u001b[0m \u001b[0mbeta\u001b[0m \u001b[0;34m=\u001b[0m \u001b[0;36m0.01\u001b[0m\u001b[0;34m\u001b[0m\u001b[0;34m\u001b[0m\u001b[0m\n\u001b[0;32m----> 2\u001b[0;31m \u001b[0mei_small\u001b[0m \u001b[0;34m=\u001b[0m \u001b[0mcal_prob\u001b[0m\u001b[0;34m(\u001b[0m\u001b[0;36m10\u001b[0m\u001b[0;34m,\u001b[0m\u001b[0mbeta\u001b[0m\u001b[0;34m)\u001b[0m\u001b[0;34m\u001b[0m\u001b[0;34m\u001b[0m\u001b[0m\n\u001b[0m\u001b[1;32m      3\u001b[0m \u001b[0mprint\u001b[0m\u001b[0;34m(\u001b[0m\u001b[0;34mf'P(x_1 = 1, x_10 = 1) = {ei_small[0,0]}'\u001b[0m\u001b[0;34m)\u001b[0m\u001b[0;34m\u001b[0m\u001b[0;34m\u001b[0m\u001b[0m\n\u001b[1;32m      4\u001b[0m \u001b[0mprint\u001b[0m\u001b[0;34m(\u001b[0m\u001b[0;34mf'P(x_1 = -1, x_10 = 1) = {ei_small[0,1]}'\u001b[0m\u001b[0;34m)\u001b[0m\u001b[0;34m\u001b[0m\u001b[0;34m\u001b[0m\u001b[0m\n\u001b[1;32m      5\u001b[0m \u001b[0mprint\u001b[0m\u001b[0;34m(\u001b[0m\u001b[0;34mf'P(x_1 = 1, x_10 = -1) = {ei_small[1,0]}'\u001b[0m\u001b[0;34m)\u001b[0m\u001b[0;34m\u001b[0m\u001b[0;34m\u001b[0m\u001b[0m\n",
      "\u001b[0;32m/var/folders/zw/7nv8d16j6hg578ch_bvxrqb00000gn/T/ipykernel_42782/1561888412.py\u001b[0m in \u001b[0;36mcal_prob\u001b[0;34m(n, beta)\u001b[0m\n\u001b[1;32m     47\u001b[0m     \u001b[0;32mfor\u001b[0m \u001b[0m_\u001b[0m \u001b[0;32min\u001b[0m \u001b[0mrange\u001b[0m\u001b[0;34m(\u001b[0m\u001b[0mn\u001b[0m\u001b[0;34m-\u001b[0m\u001b[0;36m1\u001b[0m\u001b[0;34m)\u001b[0m\u001b[0;34m:\u001b[0m\u001b[0;34m\u001b[0m\u001b[0;34m\u001b[0m\u001b[0m\n\u001b[1;32m     48\u001b[0m         \u001b[0mf\u001b[0m \u001b[0;34m=\u001b[0m \u001b[0mcol_pot\u001b[0m\u001b[0;34m(\u001b[0m\u001b[0mn\u001b[0m\u001b[0;34m,\u001b[0m\u001b[0mbeta\u001b[0m\u001b[0;34m)\u001b[0m \u001b[0;31m# column potential i.e. x_prime\u001b[0m\u001b[0;34m\u001b[0m\u001b[0;34m\u001b[0m\u001b[0m\n\u001b[0;32m---> 49\u001b[0;31m         \u001b[0mg\u001b[0m \u001b[0;34m=\u001b[0m \u001b[0mvar_to_var\u001b[0m\u001b[0;34m(\u001b[0m\u001b[0mn\u001b[0m\u001b[0;34m,\u001b[0m\u001b[0mbeta\u001b[0m\u001b[0;34m)\u001b[0m \u001b[0;31m# variable to variable g(x_i-1, x_i)\u001b[0m\u001b[0;34m\u001b[0m\u001b[0;34m\u001b[0m\u001b[0m\n\u001b[0m\u001b[1;32m     50\u001b[0m         \u001b[0mfactor_graph\u001b[0m \u001b[0;34m=\u001b[0m \u001b[0mnp\u001b[0m\u001b[0;34m.\u001b[0m\u001b[0mmultiply\u001b[0m\u001b[0;34m(\u001b[0m\u001b[0mg\u001b[0m \u001b[0;34m@\u001b[0m \u001b[0mf\u001b[0m\u001b[0;34m,\u001b[0m \u001b[0mfactor_graph\u001b[0m\u001b[0;34m)\u001b[0m\u001b[0;34m\u001b[0m\u001b[0;34m\u001b[0m\u001b[0m\n\u001b[1;32m     51\u001b[0m \u001b[0;34m\u001b[0m\u001b[0m\n",
      "\u001b[0;32m/var/folders/zw/7nv8d16j6hg578ch_bvxrqb00000gn/T/ipykernel_42782/1561888412.py\u001b[0m in \u001b[0;36mvar_to_var\u001b[0;34m(n, beta)\u001b[0m\n\u001b[1;32m     33\u001b[0m             \u001b[0;32mif\u001b[0m \u001b[0ml1\u001b[0m \u001b[0;34m<\u001b[0m \u001b[0mmax_len\u001b[0m\u001b[0;34m:\u001b[0m\u001b[0;34m\u001b[0m\u001b[0;34m\u001b[0m\u001b[0m\n\u001b[1;32m     34\u001b[0m                 \u001b[0mcol1_bin\u001b[0m \u001b[0;34m=\u001b[0m \u001b[0;34m'0'\u001b[0m\u001b[0;34m*\u001b[0m\u001b[0;34m(\u001b[0m\u001b[0mmax_len\u001b[0m\u001b[0;34m-\u001b[0m\u001b[0ml1\u001b[0m\u001b[0;34m)\u001b[0m \u001b[0;34m+\u001b[0m \u001b[0mcol1_bin\u001b[0m\u001b[0;34m\u001b[0m\u001b[0;34m\u001b[0m\u001b[0m\n\u001b[0;32m---> 35\u001b[0;31m             \u001b[0mcount\u001b[0m \u001b[0;34m=\u001b[0m \u001b[0msum\u001b[0m\u001b[0;34m(\u001b[0m\u001b[0mbit2\u001b[0m \u001b[0;34m==\u001b[0m \u001b[0mbit1\u001b[0m \u001b[0;32mfor\u001b[0m \u001b[0mbit2\u001b[0m\u001b[0;34m,\u001b[0m \u001b[0mbit1\u001b[0m \u001b[0;32min\u001b[0m \u001b[0mzip\u001b[0m\u001b[0;34m(\u001b[0m\u001b[0mcol2_bin\u001b[0m\u001b[0;34m,\u001b[0m \u001b[0mcol1_bin\u001b[0m\u001b[0;34m)\u001b[0m\u001b[0;34m)\u001b[0m\u001b[0;34m\u001b[0m\u001b[0;34m\u001b[0m\u001b[0m\n\u001b[0m\u001b[1;32m     36\u001b[0m             \u001b[0mcount_list\u001b[0m\u001b[0;34m.\u001b[0m\u001b[0mappend\u001b[0m\u001b[0;34m(\u001b[0m\u001b[0mnp\u001b[0m\u001b[0;34m.\u001b[0m\u001b[0mexp\u001b[0m\u001b[0;34m(\u001b[0m\u001b[0mcount\u001b[0m\u001b[0;34m)\u001b[0m\u001b[0;34m)\u001b[0m\u001b[0;34m\u001b[0m\u001b[0;34m\u001b[0m\u001b[0m\n\u001b[1;32m     37\u001b[0m     \u001b[0mcount_list\u001b[0m \u001b[0;34m=\u001b[0m \u001b[0mnp\u001b[0m\u001b[0;34m.\u001b[0m\u001b[0marray\u001b[0m\u001b[0;34m(\u001b[0m\u001b[0mcount_list\u001b[0m\u001b[0;34m)\u001b[0m\u001b[0;34m.\u001b[0m\u001b[0mreshape\u001b[0m\u001b[0;34m(\u001b[0m\u001b[0;36m2\u001b[0m\u001b[0;34m**\u001b[0m\u001b[0mn\u001b[0m\u001b[0;34m,\u001b[0m\u001b[0;36m2\u001b[0m\u001b[0;34m**\u001b[0m\u001b[0mn\u001b[0m\u001b[0;34m)\u001b[0m\u001b[0;34m\u001b[0m\u001b[0;34m\u001b[0m\u001b[0m\n",
      "\u001b[0;31mKeyboardInterrupt\u001b[0m: "
     ]
    }
   ],
   "source": [
    "beta = 0.01\n",
    "ei_small = cal_prob(10,beta)\n",
    "print(f'P(x_1 = 1, x_10 = 1) = {ei_small[0,0]}')\n",
    "print(f'P(x_1 = -1, x_10 = 1) = {ei_small[0,1]}')\n",
    "print(f'P(x_1 = 1, x_10 = -1) = {ei_small[1,0]}')\n",
    "print(f'P(x_1 = -1, x_10 = -1) = {ei_small[1,1]}')"
   ]
  },
  {
   "cell_type": "markdown",
   "id": "7adeb5ab",
   "metadata": {},
   "source": [
    "### $\\beta$ = 1"
   ]
  },
  {
   "cell_type": "code",
   "execution_count": 6,
   "id": "6d198f19",
   "metadata": {},
   "outputs": [
    {
     "name": "stdout",
     "output_type": "stream",
     "text": [
      "P(x_1 = 1, x_10 = 1) = 0.44816123692198634\n",
      "P(x_1 = -1, x_10 = 1) = 0.05183876307801495\n",
      "P(x_1 = 1, x_10 = -1) = 0.05183876307801521\n",
      "P(x_1 = -1, x_10 = -1) = 0.4481612369219835\n"
     ]
    }
   ],
   "source": [
    "beta = 1\n",
    "ei_mid = cal_prob(10,beta)\n",
    "print(f'P(x_1 = 1, x_10 = 1) = {ei_mid[0,0]}')\n",
    "print(f'P(x_1 = -1, x_10 = 1) = {ei_mid[0,1]}')\n",
    "print(f'P(x_1 = 1, x_10 = -1) = {ei_mid[1,0]}')\n",
    "print(f'P(x_1 = -1, x_10 = -1) = {ei_mid[1,1]}')"
   ]
  },
  {
   "cell_type": "markdown",
   "id": "464a28c8",
   "metadata": {},
   "source": [
    "### $\\beta$ = 4"
   ]
  },
  {
   "cell_type": "code",
   "execution_count": 7,
   "id": "222e151e",
   "metadata": {},
   "outputs": [
    {
     "name": "stdout",
     "output_type": "stream",
     "text": [
      "P(x_1 = 1, x_10 = 1) = 0.46261626157004493\n",
      "P(x_1 = -1, x_10 = 1) = 0.03738373842995522\n",
      "P(x_1 = 1, x_10 = -1) = 0.03738373842995526\n",
      "P(x_1 = -1, x_10 = -1) = 0.4626162615700445\n"
     ]
    }
   ],
   "source": [
    "beta = 4\n",
    "ei_large = cal_prob(10,beta)\n",
    "print(f'P(x_1 = 1, x_10 = 1) = {ei_large[0,0]}')\n",
    "print(f'P(x_1 = -1, x_10 = 1) = {ei_large[0,1]}')\n",
    "print(f'P(x_1 = 1, x_10 = -1) = {ei_large[1,0]}')\n",
    "print(f'P(x_1 = -1, x_10 = -1) = {ei_large[1,1]}')"
   ]
  },
  {
   "cell_type": "markdown",
   "id": "a8189d02",
   "metadata": {},
   "source": [
    "## Mean Field Approximation"
   ]
  },
  {
   "cell_type": "code",
   "execution_count": 10,
   "id": "05e6079c",
   "metadata": {},
   "outputs": [],
   "source": [
    "def mfa(n, beta, init, iteration):\n",
    "    for _ in range(iteration):\n",
    "        for col in range(n):\n",
    "            for row in range(n):\n",
    "                if col%(n-1)==0 and row%(n-1)==0: # 2 neighbours potential\n",
    "                    if col < int(n/2) and row < int(n/2):\n",
    "                        row_axis = (row+1, row)\n",
    "                        col_axis = (col, col+1)\n",
    "                    elif col > int(n/2) and row < int(n/2):\n",
    "                        row_axis = (row+1, row)\n",
    "                        col_axis = (col, col-1)\n",
    "                    elif col < int(n/2) and row > int(n/2):\n",
    "                        row_axis = (row-1, row)\n",
    "                        col_axis = (col, col+1)\n",
    "                    elif col > int(n/2) and row > int(n/2):\n",
    "                        row_axis = (row-1, row)\n",
    "                        col_axis = (col, col-1)    \n",
    "\n",
    "                elif (col%(n-1)==0 and row%(n-1)!=0) or (row%(n-1)==0 and col%(n-1)!=0): # 3 neighbours potential\n",
    "                    if row%(n-1)!=0 and col < int(n/2):\n",
    "                        row_axis = (row-1, row, row+1)\n",
    "                        col_axis = (col, col+1, col)\n",
    "                    elif row%(n-1)!=0 and col > int(n/2):\n",
    "                        row_axis = (row-1, row, row+1)\n",
    "                        col_axis = (col, col-1, col)\n",
    "                    elif col%(n-1)!=0 and row < int(n/2):\n",
    "                        row_axis = (row, row+1, row)\n",
    "                        col_axis = (col-1, col, col+1)\n",
    "                    elif col%(n-1)!=0 and row > int(n/2):\n",
    "                        row_axis = (row, row-1, row)\n",
    "                        col_axis = (col-1, col, col+1)\n",
    "\n",
    "                else: # 4 neighbours potential\n",
    "                    row_axis = (row, row, row+1, row-1)\n",
    "                    col_axis = (col-1, col+1, col, col)\n",
    "\n",
    "                pot_pos = beta * (init[row_axis, col_axis]).sum()\n",
    "                pot_neg = beta * (1-init[row_axis, col_axis]).sum()\n",
    "\n",
    "                init[row, col] = np.exp(pot_pos) / (np.exp(pot_pos) + np.exp(pot_neg))\n",
    "                \n",
    "    return init"
   ]
  },
  {
   "cell_type": "markdown",
   "id": "b6e348e6",
   "metadata": {},
   "source": [
    "### $\\beta$ = 0.01"
   ]
  },
  {
   "cell_type": "code",
   "execution_count": 11,
   "id": "9489cd2d",
   "metadata": {},
   "outputs": [
    {
     "name": "stdout",
     "output_type": "stream",
     "text": [
      "P(x_1 = 1, x_10 = 1) = 0.25\n",
      "P(x_1 = -1, x_10 = 1) = 0.25\n",
      "P(x_1 = 1, x_10 = -1) = 0.25\n",
      "P(x_1 = -1, x_10 = -1) = 0.25\n"
     ]
    }
   ],
   "source": [
    "n = 10\n",
    "beta = 0.01\n",
    "init = np.random.rand(n,n)\n",
    "iteration = 5000\n",
    "\n",
    "q_star_small = mfa(n, beta, init, iteration)\n",
    "\n",
    "print(f'P(x_1 = 1, x_10 = 1) = {q_star_small[0,-1] * q_star_small[-1,-1]}')\n",
    "print(f'P(x_1 = -1, x_10 = 1) = {q_star_small[0,-1] * (1-q_star_small[-1,-1])}')\n",
    "print(f'P(x_1 = 1, x_10 = -1) = {(1-q_star_small[0,-1]) * q_star_small[-1,-1]}')\n",
    "print(f'P(x_1 = -1, x_10 = -1) = {(1-q_star_small[0,-1]) * (1-q_star_small[-1,-1])}')"
   ]
  },
  {
   "cell_type": "markdown",
   "id": "4efc249e",
   "metadata": {},
   "source": [
    "### $\\beta$ = 1"
   ]
  },
  {
   "cell_type": "code",
   "execution_count": 21,
   "id": "5a2123f6",
   "metadata": {},
   "outputs": [
    {
     "name": "stdout",
     "output_type": "stream",
     "text": [
      "Frist Trial\n",
      "P(x_1 = 1, x_10 = 1) = 0.023894514217289754\n",
      "P(x_1 = -1, x_10 = 1) = 0.13068399081264562\n",
      "P(x_1 = 1, x_10 = -1) = 0.13068399081264562\n",
      "P(x_1 = -1, x_10 = -1) = 0.7147375041574191\n"
     ]
    }
   ],
   "source": [
    "n = 10\n",
    "beta = 1\n",
    "init = np.random.rand(n,n)\n",
    "iteration = 5000\n",
    "\n",
    "q_star_mid = mfa(n, beta, init, iteration)\n",
    "\n",
    "print('Frist Trial')\n",
    "print(f'P(x_1 = 1, x_10 = 1) = {q_star_mid[0,-1] * q_star_mid[-1,-1]}')\n",
    "print(f'P(x_1 = -1, x_10 = 1) = {q_star_mid[0,-1] * (1-q_star_mid[-1,-1])}')\n",
    "print(f'P(x_1 = 1, x_10 = -1) = {(1-q_star_mid[0,-1]) * q_star_mid[-1,-1]}')\n",
    "print(f'P(x_1 = -1, x_10 = -1) = {(1-q_star_mid[0,-1]) * (1-q_star_mid[-1,-1])}')"
   ]
  },
  {
   "cell_type": "code",
   "execution_count": 22,
   "id": "94825019",
   "metadata": {},
   "outputs": [
    {
     "name": "stdout",
     "output_type": "stream",
     "text": [
      "Second Trial\n",
      "P(x_1 = 1, x_10 = 1) = 0.1308044635090594\n",
      "P(x_1 = -1, x_10 = 1) = 0.02394847062224909\n",
      "P(x_1 = 1, x_10 = -1) = 0.7144426023596322\n",
      "P(x_1 = -1, x_10 = -1) = 0.13080446350905933\n"
     ]
    }
   ],
   "source": [
    "n = 10\n",
    "beta = 1\n",
    "init = np.random.rand(n,n)\n",
    "iteration = 5000\n",
    "\n",
    "q_star_mid = mfa(n, beta, init, iteration)\n",
    "\n",
    "print('Second Trial')\n",
    "print(f'P(x_1 = 1, x_10 = 1) = {q_star_mid[0,-1] * q_star_mid[-1,-1]}')\n",
    "print(f'P(x_1 = -1, x_10 = 1) = {q_star_mid[0,-1] * (1-q_star_mid[-1,-1])}')\n",
    "print(f'P(x_1 = 1, x_10 = -1) = {(1-q_star_mid[0,-1]) * q_star_mid[-1,-1]}')\n",
    "print(f'P(x_1 = -1, x_10 = -1) = {(1-q_star_mid[0,-1]) * (1-q_star_mid[-1,-1])}')"
   ]
  },
  {
   "cell_type": "code",
   "execution_count": 23,
   "id": "67189bb0",
   "metadata": {},
   "outputs": [
    {
     "name": "stdout",
     "output_type": "stream",
     "text": [
      "Third Trial\n",
      "P(x_1 = 1, x_10 = 1) = 0.712247137268597\n",
      "P(x_1 = -1, x_10 = 1) = 0.1317002172912695\n",
      "P(x_1 = 1, x_10 = -1) = 0.1317002172912695\n",
      "P(x_1 = -1, x_10 = -1) = 0.024352428148864028\n"
     ]
    }
   ],
   "source": [
    "n = 10\n",
    "beta = 1\n",
    "init = np.random.rand(n,n)\n",
    "iteration = 5000\n",
    "\n",
    "q_star_mid = mfa(n, beta, init, iteration)\n",
    "\n",
    "print('Third Trial')\n",
    "print(f'P(x_1 = 1, x_10 = 1) = {q_star_mid[0,-1] * q_star_mid[-1,-1]}')\n",
    "print(f'P(x_1 = -1, x_10 = 1) = {q_star_mid[0,-1] * (1-q_star_mid[-1,-1])}')\n",
    "print(f'P(x_1 = 1, x_10 = -1) = {(1-q_star_mid[0,-1]) * q_star_mid[-1,-1]}')\n",
    "print(f'P(x_1 = -1, x_10 = -1) = {(1-q_star_mid[0,-1]) * (1-q_star_mid[-1,-1])}')"
   ]
  },
  {
   "cell_type": "code",
   "execution_count": 29,
   "id": "c6d92590",
   "metadata": {},
   "outputs": [
    {
     "name": "stdout",
     "output_type": "stream",
     "text": [
      "Fourth Trial\n",
      "P(x_1 = 1, x_10 = 1) = 0.7147375041574189\n",
      "P(x_1 = -1, x_10 = 1) = 0.13068399081264565\n",
      "P(x_1 = 1, x_10 = -1) = 0.13068399081264565\n",
      "P(x_1 = -1, x_10 = -1) = 0.02389451421728977\n"
     ]
    }
   ],
   "source": [
    "n = 10\n",
    "beta = 1\n",
    "init = np.random.rand(n,n)\n",
    "iteration = 5000\n",
    "\n",
    "q_star_mid = mfa(n, beta, init, iteration)\n",
    "\n",
    "print('Fourth Trial')\n",
    "print(f'P(x_1 = 1, x_10 = 1) = {q_star_mid[0,-1] * q_star_mid[-1,-1]}')\n",
    "print(f'P(x_1 = -1, x_10 = 1) = {q_star_mid[0,-1] * (1-q_star_mid[-1,-1])}')\n",
    "print(f'P(x_1 = 1, x_10 = -1) = {(1-q_star_mid[0,-1]) * q_star_mid[-1,-1]}')\n",
    "print(f'P(x_1 = -1, x_10 = -1) = {(1-q_star_mid[0,-1]) * (1-q_star_mid[-1,-1])}')"
   ]
  },
  {
   "cell_type": "code",
   "execution_count": 30,
   "id": "3931f0da",
   "metadata": {},
   "outputs": [
    {
     "name": "stdout",
     "output_type": "stream",
     "text": [
      "Fifth Trial\n",
      "P(x_1 = 1, x_10 = 1) = 0.7147375041574189\n",
      "P(x_1 = -1, x_10 = 1) = 0.13068399081264565\n",
      "P(x_1 = 1, x_10 = -1) = 0.13068399081264565\n",
      "P(x_1 = -1, x_10 = -1) = 0.02389451421728977\n"
     ]
    }
   ],
   "source": [
    "n = 10\n",
    "beta = 1\n",
    "init = np.random.rand(n,n)\n",
    "iteration = 5000\n",
    "\n",
    "q_star_mid = mfa(n, beta, init, iteration)\n",
    "\n",
    "print('Fifth Trial')\n",
    "print(f'P(x_1 = 1, x_10 = 1) = {q_star_mid[0,-1] * q_star_mid[-1,-1]}')\n",
    "print(f'P(x_1 = -1, x_10 = 1) = {q_star_mid[0,-1] * (1-q_star_mid[-1,-1])}')\n",
    "print(f'P(x_1 = 1, x_10 = -1) = {(1-q_star_mid[0,-1]) * q_star_mid[-1,-1]}')\n",
    "print(f'P(x_1 = -1, x_10 = -1) = {(1-q_star_mid[0,-1]) * (1-q_star_mid[-1,-1])}')"
   ]
  },
  {
   "cell_type": "markdown",
   "id": "552658b5",
   "metadata": {},
   "source": [
    "### $\\beta$ = 4"
   ]
  },
  {
   "cell_type": "code",
   "execution_count": 24,
   "id": "21ce9b67",
   "metadata": {},
   "outputs": [
    {
     "name": "stdout",
     "output_type": "stream",
     "text": [
      "First Trial\n",
      "P(x_1 = 1, x_10 = 1) = 1.1248187637421885e-07\n",
      "P(x_1 = -1, x_10 = 1) = 0.00033527069655423647\n",
      "P(x_1 = 1, x_10 = -1) = 0.00033527069655423647\n",
      "P(x_1 = -1, x_10 = -1) = 0.9993293461250151\n"
     ]
    }
   ],
   "source": [
    "n = 10\n",
    "beta = 4\n",
    "init = np.random.rand(n,n)\n",
    "iteration = 5000\n",
    "\n",
    "q_star_large = mfa(n, beta, init, iteration)\n",
    "\n",
    "print('First Trial')\n",
    "print(f'P(x_1 = 1, x_10 = 1) = {q_star_large[0,-1] * q_star_large[-1,-1]}')\n",
    "print(f'P(x_1 = -1, x_10 = 1) = {q_star_large[0,-1] * (1-q_star_large[-1,-1])}')\n",
    "print(f'P(x_1 = 1, x_10 = -1) = {(1-q_star_large[0,-1]) * q_star_large[-1,-1]}')\n",
    "print(f'P(x_1 = -1, x_10 = -1) = {(1-q_star_large[0,-1]) * (1-q_star_large[-1,-1])}')"
   ]
  },
  {
   "cell_type": "code",
   "execution_count": 27,
   "id": "4b1c9ded",
   "metadata": {},
   "outputs": [
    {
     "name": "stdout",
     "output_type": "stream",
     "text": [
      "Second Trial\n",
      "P(x_1 = 1, x_10 = 1) = 0.00033527069655424184\n",
      "P(x_1 = -1, x_10 = 1) = 1.124818763742258e-07\n",
      "P(x_1 = 1, x_10 = -1) = 0.9993293461250151\n",
      "P(x_1 = -1, x_10 = -1) = 0.0003352706965542518\n"
     ]
    }
   ],
   "source": [
    "n = 10\n",
    "beta = 4\n",
    "init = np.random.rand(n,n)\n",
    "iteration = 5000\n",
    "\n",
    "q_star_large = mfa(n, beta, init, iteration)\n",
    "\n",
    "print('Second Trial')\n",
    "print(f'P(x_1 = 1, x_10 = 1) = {q_star_large[0,-1] * q_star_large[-1,-1]}')\n",
    "print(f'P(x_1 = -1, x_10 = 1) = {q_star_large[0,-1] * (1-q_star_large[-1,-1])}')\n",
    "print(f'P(x_1 = 1, x_10 = -1) = {(1-q_star_large[0,-1]) * q_star_large[-1,-1]}')\n",
    "print(f'P(x_1 = -1, x_10 = -1) = {(1-q_star_large[0,-1]) * (1-q_star_large[-1,-1])}')"
   ]
  },
  {
   "cell_type": "code",
   "execution_count": 28,
   "id": "2b0084bf",
   "metadata": {},
   "outputs": [
    {
     "name": "stdout",
     "output_type": "stream",
     "text": [
      "Third Trial\n",
      "P(x_1 = 1, x_10 = 1) = 0.9993293461250151\n",
      "P(x_1 = -1, x_10 = 1) = 0.0003352706965542518\n",
      "P(x_1 = 1, x_10 = -1) = 0.0003352706965542518\n",
      "P(x_1 = -1, x_10 = -1) = 1.1248187637422915e-07\n"
     ]
    }
   ],
   "source": [
    "n = 10\n",
    "beta = 4\n",
    "init = np.random.rand(n,n)\n",
    "iteration = 5000\n",
    "\n",
    "q_star_large = mfa(n, beta, init, iteration)\n",
    "\n",
    "print('Third Trial')\n",
    "print(f'P(x_1 = 1, x_10 = 1) = {q_star_large[0,-1] * q_star_large[-1,-1]}')\n",
    "print(f'P(x_1 = -1, x_10 = 1) = {q_star_large[0,-1] * (1-q_star_large[-1,-1])}')\n",
    "print(f'P(x_1 = 1, x_10 = -1) = {(1-q_star_large[0,-1]) * q_star_large[-1,-1]}')\n",
    "print(f'P(x_1 = -1, x_10 = -1) = {(1-q_star_large[0,-1]) * (1-q_star_large[-1,-1])}')"
   ]
  },
  {
   "cell_type": "code",
   "execution_count": 31,
   "id": "847d4e26",
   "metadata": {},
   "outputs": [
    {
     "name": "stdout",
     "output_type": "stream",
     "text": [
      "Fourth Trial\n",
      "P(x_1 = 1, x_10 = 1) = 1.1248187637421885e-07\n",
      "P(x_1 = -1, x_10 = 1) = 0.00033527069655423647\n",
      "P(x_1 = 1, x_10 = -1) = 0.00033527069655423647\n",
      "P(x_1 = -1, x_10 = -1) = 0.9993293461250151\n"
     ]
    }
   ],
   "source": [
    "n = 10\n",
    "beta = 4\n",
    "init = np.random.rand(n,n)\n",
    "iteration = 5000\n",
    "\n",
    "q_star_large = mfa(n, beta, init, iteration)\n",
    "\n",
    "print('Fourth Trial')\n",
    "print(f'P(x_1 = 1, x_10 = 1) = {q_star_large[0,-1] * q_star_large[-1,-1]}')\n",
    "print(f'P(x_1 = -1, x_10 = 1) = {q_star_large[0,-1] * (1-q_star_large[-1,-1])}')\n",
    "print(f'P(x_1 = 1, x_10 = -1) = {(1-q_star_large[0,-1]) * q_star_large[-1,-1]}')\n",
    "print(f'P(x_1 = -1, x_10 = -1) = {(1-q_star_large[0,-1]) * (1-q_star_large[-1,-1])}')"
   ]
  },
  {
   "cell_type": "code",
   "execution_count": 32,
   "id": "4921e54f",
   "metadata": {},
   "outputs": [
    {
     "name": "stdout",
     "output_type": "stream",
     "text": [
      "Fifth Trial\n",
      "P(x_1 = 1, x_10 = 1) = 0.9993293461249102\n",
      "P(x_1 = -1, x_10 = 1) = 0.0003352706966591327\n",
      "P(x_1 = 1, x_10 = -1) = 0.00033527069655421663\n",
      "P(x_1 = -1, x_10 = -1) = 1.1248187640941623e-07\n"
     ]
    }
   ],
   "source": [
    "n = 10\n",
    "beta = 4\n",
    "init = np.random.rand(n,n)\n",
    "iteration = 5000\n",
    "\n",
    "q_star_large = mfa(n, beta, init, iteration)\n",
    "\n",
    "print('Fifth Trial')\n",
    "print(f'P(x_1 = 1, x_10 = 1) = {q_star_large[0,-1] * q_star_large[-1,-1]}')\n",
    "print(f'P(x_1 = -1, x_10 = 1) = {q_star_large[0,-1] * (1-q_star_large[-1,-1])}')\n",
    "print(f'P(x_1 = 1, x_10 = -1) = {(1-q_star_large[0,-1]) * q_star_large[-1,-1]}')\n",
    "print(f'P(x_1 = -1, x_10 = -1) = {(1-q_star_large[0,-1]) * (1-q_star_large[-1,-1])}')"
   ]
  },
  {
   "cell_type": "markdown",
   "id": "4bbfbaa8",
   "metadata": {},
   "source": [
    "## Gibbs Sampling"
   ]
  },
  {
   "cell_type": "code",
   "execution_count": 37,
   "id": "4e1081e5",
   "metadata": {},
   "outputs": [],
   "source": [
    "def get_potential(n, beta, init, target, binary):\n",
    "    '''\n",
    "    input:\n",
    "        beta: beta value, int\n",
    "        ising: ising model, n x n numpy array\n",
    "        target: target varibale, [row, col], tuple/list/1d array with len = 2\n",
    "        binary: target binary value, either 1 or -1, int\n",
    "    '''\n",
    "    \n",
    "    row, col = target[0], target[1]\n",
    "    if col%(n-1)==0 and row%(n-1)==0: # 2 neighbours potential\n",
    "        if col < int(n/2) and row < int(n/2):\n",
    "            row_axis = (row+1, row)\n",
    "            col_axis = (col, col+1)\n",
    "        elif col > int(n/2) and row < int(n/2):\n",
    "            row_axis = (row+1, row)\n",
    "            col_axis = (col, col-1)\n",
    "        elif col < int(n/2) and row > int(n/2):\n",
    "            row_axis = (row-1, row)\n",
    "            col_axis = (col, col+1)\n",
    "        elif col > int(n/2) and row > int(n/2):\n",
    "            row_axis = (row-1, row)\n",
    "            col_axis = (col, col-1)\n",
    "    elif (col%(n-1)==0 and row%(n-1)!=0) or (row%(n-1)==0 and col%(n-1)!=0): # 3 neighbours potential\n",
    "        if row%(n-1)!=0 and col < int(n/2):\n",
    "            row_axis = (row-1, row, row+1)\n",
    "            col_axis = (col, col+1, col)\n",
    "        elif row%(n-1)!=0 and col > int(n/2):\n",
    "            row_axis = (row-1, row, row+1)\n",
    "            col_axis = (col, col-1, col)\n",
    "        elif col%(n-1)!=0 and row < int(n/2):\n",
    "            row_axis = (row, row+1, row)\n",
    "            col_axis = (col-1, col, col+1)\n",
    "        elif col%(n-1)!=0 and row > int(n/2):\n",
    "            row_axis = (row, row-1, row)\n",
    "            col_axis = (col-1, col, col+1)\n",
    "    else: # 4 neighbours potential\n",
    "        row_axis = (row, row, row+1, row-1)\n",
    "        col_axis = (col-1, col+1, col, col)\n",
    "    \n",
    "    pot = np.prod(np.exp(beta * (init[row_axis,col_axis]==binary)))\n",
    "    return pot\n",
    "\n",
    "\n",
    "def gibbs_sampling(n, beta, init):\n",
    "    '''\n",
    "    input:\n",
    "        beta: beta value, int\n",
    "        n: size of Icing model, n x n lattice, int\n",
    "        init: initialisation of Icing model, n x n numpy array\n",
    "    '''\n",
    "    iteration = 0\n",
    "    conv = 0\n",
    "    sample = []\n",
    "    \n",
    "    while conv < 20:\n",
    "        iteration += 1\n",
    "        init_old = np.copy(init)\n",
    "        for col in range(n):\n",
    "            for row in range(n):\n",
    "                pot_pos = get_potential(n, beta, init, (row,col), 1)\n",
    "                pot_neg = get_potential(n, beta, init, (row,col), -1)\n",
    "                prob_pos = pot_pos/(pot_pos + pot_neg)\n",
    "\n",
    "                if prob_pos < 0 or prob_pos > 1:\n",
    "                    print('Probability must be between 0 and 1')\n",
    "                    break\n",
    "\n",
    "                init[row,col] = np.random.choice([1,-1], p = (prob_pos, 1-prob_pos))\n",
    "\n",
    "        sample.append([init[0,-1], init[-1,-1]])\n",
    "\n",
    "        if np.array_equal(init_old, init):\n",
    "            conv += 1\n",
    "        else:\n",
    "            conv = 0\n",
    "\n",
    "        if iteration == 10000:\n",
    "            break\n",
    "\n",
    "    return np.array(sample), iteration"
   ]
  },
  {
   "cell_type": "markdown",
   "id": "0833c3d0",
   "metadata": {},
   "source": [
    "### $\\beta$ = 0.01"
   ]
  },
  {
   "cell_type": "code",
   "execution_count": 38,
   "id": "f6e9a870",
   "metadata": {},
   "outputs": [
    {
     "name": "stdout",
     "output_type": "stream",
     "text": [
      "First Trial\n",
      "P(x_1 = 1, x_10 = 1) = 0.250556875\n",
      "P(x_1 = -1, x_10 = 1) = 0.247568125\n",
      "P(x_1 = 1, x_10 = -1) = 0.25244312500000005\n",
      "P(x_1 = -1, x_10 = -1) = 0.24943187500000003\n"
     ]
    }
   ],
   "source": [
    "n = 10\n",
    "beta = 0.01\n",
    "init = np.random.choice([1,-1], size=(n,n))\n",
    "\n",
    "gib_samp_small, iter_small = gibbs_sampling(n, beta, init)\n",
    "\n",
    "x1 = (gib_samp_small[int(iter_small*0.2):,0] == 1).sum() / len(gib_samp_small[int(iter_small*0.2):,0]) # P(x_1 = 1)\n",
    "x10 = (gib_samp_small[int(iter_small*0.2):,1] == 1).sum() / len(gib_samp_small[int(iter_small*0.2):,1]) # P(x_10 = 1)\n",
    "\n",
    "print('First Trial')\n",
    "print(f'P(x_1 = 1, x_10 = 1) = {x1 * x10}')\n",
    "print(f'P(x_1 = -1, x_10 = 1) = {(1-x1) * x10}')\n",
    "print(f'P(x_1 = 1, x_10 = -1) = {x1 * (1-x10)}')\n",
    "print(f'P(x_1 = -1, x_10 = -1) = {(1-x1) * (1-x10)}')"
   ]
  },
  {
   "cell_type": "code",
   "execution_count": 39,
   "id": "f831017d",
   "metadata": {},
   "outputs": [
    {
     "name": "stdout",
     "output_type": "stream",
     "text": [
      "Second Trial\n",
      "P(x_1 = 1, x_10 = 1) = 0.24595228125000002\n",
      "P(x_1 = -1, x_10 = 1) = 0.25129771875\n",
      "P(x_1 = 1, x_10 = -1) = 0.24867271875\n",
      "P(x_1 = -1, x_10 = -1) = 0.25407728125\n"
     ]
    }
   ],
   "source": [
    "n = 10\n",
    "beta = 0.01\n",
    "init = np.random.choice([1,-1], size=(n,n))\n",
    "\n",
    "gib_samp_small, iter_small = gibbs_sampling(n, beta, init)\n",
    "\n",
    "x1 = (gib_samp_small[int(iter_small*0.2):,0] == 1).sum() / len(gib_samp_small[int(iter_small*0.2):,0]) # P(x_1 = 1)\n",
    "x10 = (gib_samp_small[int(iter_small*0.2):,1] == 1).sum() / len(gib_samp_small[int(iter_small*0.2):,1]) # P(x_10 = 1)\n",
    "\n",
    "print('Second Trial')\n",
    "print(f'P(x_1 = 1, x_10 = 1) = {x1 * x10}')\n",
    "print(f'P(x_1 = -1, x_10 = 1) = {(1-x1) * x10}')\n",
    "print(f'P(x_1 = 1, x_10 = -1) = {x1 * (1-x10)}')\n",
    "print(f'P(x_1 = -1, x_10 = -1) = {(1-x1) * (1-x10)}')"
   ]
  },
  {
   "cell_type": "code",
   "execution_count": 40,
   "id": "0563f875",
   "metadata": {},
   "outputs": [
    {
     "name": "stdout",
     "output_type": "stream",
     "text": [
      "Third Trial\n",
      "P(x_1 = 1, x_10 = 1) = 0.23959710937499998\n",
      "P(x_1 = -1, x_10 = 1) = 0.246277890625\n",
      "P(x_1 = 1, x_10 = -1) = 0.253527890625\n",
      "P(x_1 = -1, x_10 = -1) = 0.26059710937499997\n"
     ]
    }
   ],
   "source": [
    "n = 10\n",
    "beta = 0.01\n",
    "init = np.random.choice([1,-1], size=(n,n))\n",
    "\n",
    "gib_samp_small, iter_small = gibbs_sampling(n, beta, init)\n",
    "\n",
    "x1 = (gib_samp_small[int(iter_small*0.2):,0] == 1).sum() / len(gib_samp_small[int(iter_small*0.2):,0]) # P(x_1 = 1)\n",
    "x10 = (gib_samp_small[int(iter_small*0.2):,1] == 1).sum() / len(gib_samp_small[int(iter_small*0.2):,1]) # P(x_10 = 1)\n",
    "\n",
    "print('Third Trial')\n",
    "print(f'P(x_1 = 1, x_10 = 1) = {x1 * x10}')\n",
    "print(f'P(x_1 = -1, x_10 = 1) = {(1-x1) * x10}')\n",
    "print(f'P(x_1 = 1, x_10 = -1) = {x1 * (1-x10)}')\n",
    "print(f'P(x_1 = -1, x_10 = -1) = {(1-x1) * (1-x10)}')"
   ]
  },
  {
   "cell_type": "code",
   "execution_count": 41,
   "id": "2ad11352",
   "metadata": {},
   "outputs": [
    {
     "name": "stdout",
     "output_type": "stream",
     "text": [
      "Fourth Trial\n",
      "P(x_1 = 1, x_10 = 1) = 0.24968515624999998\n",
      "P(x_1 = -1, x_10 = 1) = 0.24843984375\n",
      "P(x_1 = 1, x_10 = -1) = 0.25156484375000004\n",
      "P(x_1 = -1, x_10 = -1) = 0.25031015625\n"
     ]
    }
   ],
   "source": [
    "n = 10\n",
    "beta = 0.01\n",
    "init = np.random.choice([1,-1], size=(n,n))\n",
    "\n",
    "gib_samp_small, iter_small = gibbs_sampling(n, beta, init)\n",
    "\n",
    "x1 = (gib_samp_small[int(iter_small*0.2):,0] == 1).sum() / len(gib_samp_small[int(iter_small*0.2):,0]) # P(x_1 = 1)\n",
    "x10 = (gib_samp_small[int(iter_small*0.2):,1] == 1).sum() / len(gib_samp_small[int(iter_small*0.2):,1]) # P(x_10 = 1)\n",
    "\n",
    "print('Fourth Trial')\n",
    "print(f'P(x_1 = 1, x_10 = 1) = {x1 * x10}')\n",
    "print(f'P(x_1 = -1, x_10 = 1) = {(1-x1) * x10}')\n",
    "print(f'P(x_1 = 1, x_10 = -1) = {x1 * (1-x10)}')\n",
    "print(f'P(x_1 = -1, x_10 = -1) = {(1-x1) * (1-x10)}')"
   ]
  },
  {
   "cell_type": "code",
   "execution_count": 42,
   "id": "81f85a5c",
   "metadata": {},
   "outputs": [
    {
     "name": "stdout",
     "output_type": "stream",
     "text": [
      "Fifth Trial\n",
      "P(x_1 = 1, x_10 = 1) = 0.248748046875\n",
      "P(x_1 = -1, x_10 = 1) = 0.251876953125\n",
      "P(x_1 = 1, x_10 = -1) = 0.24812695312500002\n",
      "P(x_1 = -1, x_10 = -1) = 0.251248046875\n"
     ]
    }
   ],
   "source": [
    "n = 10\n",
    "beta = 0.01\n",
    "init = np.random.choice([1,-1], size=(n,n))\n",
    "\n",
    "gib_samp_small, iter_small = gibbs_sampling(n, beta, init)\n",
    "\n",
    "x1 = (gib_samp_small[int(iter_small*0.2):,0] == 1).sum() / len(gib_samp_small[int(iter_small*0.2):,0]) # P(x_1 = 1)\n",
    "x10 = (gib_samp_small[int(iter_small*0.2):,1] == 1).sum() / len(gib_samp_small[int(iter_small*0.2):,1]) # P(x_10 = 1)\n",
    "\n",
    "print('Fifth Trial')\n",
    "print(f'P(x_1 = 1, x_10 = 1) = {x1 * x10}')\n",
    "print(f'P(x_1 = -1, x_10 = 1) = {(1-x1) * x10}')\n",
    "print(f'P(x_1 = 1, x_10 = -1) = {x1 * (1-x10)}')\n",
    "print(f'P(x_1 = -1, x_10 = -1) = {(1-x1) * (1-x10)}')"
   ]
  },
  {
   "cell_type": "markdown",
   "id": "7ca72e1d",
   "metadata": {},
   "source": [
    "### $\\beta$ = 1"
   ]
  },
  {
   "cell_type": "code",
   "execution_count": 43,
   "id": "cf9a3e65",
   "metadata": {},
   "outputs": [
    {
     "name": "stdout",
     "output_type": "stream",
     "text": [
      "First Trial\n",
      "P(x_1 = 1, x_10 = 1) = 0.207496625\n",
      "P(x_1 = -1, x_10 = 1) = 0.25800337500000003\n",
      "P(x_1 = 1, x_10 = -1) = 0.238253375\n",
      "P(x_1 = -1, x_10 = -1) = 0.296246625\n"
     ]
    }
   ],
   "source": [
    "n = 10\n",
    "beta = 1\n",
    "init = np.random.choice([1,-1], size=(n,n))\n",
    "\n",
    "gib_samp_mid, iter_mid = gibbs_sampling(n, beta, init)\n",
    "\n",
    "x1 = (gib_samp_mid[int(iter_mid*0.2):,0] == 1).sum() / len(gib_samp_mid[int(iter_mid*0.2):,0]) # P(x_1 = 1)\n",
    "x10 = (gib_samp_mid[int(iter_mid*0.2):,1] == 1).sum() / len(gib_samp_mid[int(iter_mid*0.2):,1]) # P(x_10 = 1)\n",
    "\n",
    "print('First Trial')\n",
    "print(f'P(x_1 = 1, x_10 = 1) = {x1 * x10}')\n",
    "print(f'P(x_1 = -1, x_10 = 1) = {(1-x1) * x10}')\n",
    "print(f'P(x_1 = 1, x_10 = -1) = {x1 * (1-x10)}')\n",
    "print(f'P(x_1 = -1, x_10 = -1) = {(1-x1) * (1-x10)}')"
   ]
  },
  {
   "cell_type": "code",
   "execution_count": 44,
   "id": "1eb4feff",
   "metadata": {},
   "outputs": [
    {
     "name": "stdout",
     "output_type": "stream",
     "text": [
      "Second Trial\n",
      "P(x_1 = 1, x_10 = 1) = 0.228545375\n",
      "P(x_1 = -1, x_10 = 1) = 0.257204625\n",
      "P(x_1 = 1, x_10 = -1) = 0.24195462499999998\n",
      "P(x_1 = -1, x_10 = -1) = 0.27229537500000006\n"
     ]
    }
   ],
   "source": [
    "n = 10\n",
    "beta = 1\n",
    "init = np.random.choice([1,-1], size=(n,n))\n",
    "\n",
    "gib_samp_mid, iter_mid = gibbs_sampling(n, beta, init)\n",
    "\n",
    "x1 = (gib_samp_mid[int(iter_mid*0.2):,0] == 1).sum() / len(gib_samp_mid[int(iter_mid*0.2):,0]) # P(x_1 = 1)\n",
    "x10 = (gib_samp_mid[int(iter_mid*0.2):,1] == 1).sum() / len(gib_samp_mid[int(iter_mid*0.2):,1]) # P(x_10 = 1)\n",
    "\n",
    "print('Second Trial')\n",
    "print(f'P(x_1 = 1, x_10 = 1) = {x1 * x10}')\n",
    "print(f'P(x_1 = -1, x_10 = 1) = {(1-x1) * x10}')\n",
    "print(f'P(x_1 = 1, x_10 = -1) = {x1 * (1-x10)}')\n",
    "print(f'P(x_1 = -1, x_10 = -1) = {(1-x1) * (1-x10)}')"
   ]
  },
  {
   "cell_type": "code",
   "execution_count": 45,
   "id": "749dc1ca",
   "metadata": {},
   "outputs": [
    {
     "name": "stdout",
     "output_type": "stream",
     "text": [
      "Third Trial\n",
      "P(x_1 = 1, x_10 = 1) = 0.313879296875\n",
      "P(x_1 = -1, x_10 = 1) = 0.24724570312500002\n",
      "P(x_1 = 1, x_10 = -1) = 0.245495703125\n",
      "P(x_1 = -1, x_10 = -1) = 0.19337929687500002\n"
     ]
    }
   ],
   "source": [
    "n = 10\n",
    "beta = 1\n",
    "init = np.random.choice([1,-1], size=(n,n))\n",
    "\n",
    "gib_samp_mid, iter_mid = gibbs_sampling(n, beta, init)\n",
    "\n",
    "x1 = (gib_samp_mid[int(iter_mid*0.2):,0] == 1).sum() / len(gib_samp_mid[int(iter_mid*0.2):,0]) # P(x_1 = 1)\n",
    "x10 = (gib_samp_mid[int(iter_mid*0.2):,1] == 1).sum() / len(gib_samp_mid[int(iter_mid*0.2):,1]) # P(x_10 = 1)\n",
    "\n",
    "print('Third Trial')\n",
    "print(f'P(x_1 = 1, x_10 = 1) = {x1 * x10}')\n",
    "print(f'P(x_1 = -1, x_10 = 1) = {(1-x1) * x10}')\n",
    "print(f'P(x_1 = 1, x_10 = -1) = {x1 * (1-x10)}')\n",
    "print(f'P(x_1 = -1, x_10 = -1) = {(1-x1) * (1-x10)}')"
   ]
  },
  {
   "cell_type": "code",
   "execution_count": 46,
   "id": "7da1e674",
   "metadata": {},
   "outputs": [
    {
     "name": "stdout",
     "output_type": "stream",
     "text": [
      "Fourth Trial\n",
      "P(x_1 = 1, x_10 = 1) = 0.28120937500000004\n",
      "P(x_1 = -1, x_10 = 1) = 0.244415625\n",
      "P(x_1 = 1, x_10 = -1) = 0.253790625\n",
      "P(x_1 = -1, x_10 = -1) = 0.22058437499999997\n"
     ]
    }
   ],
   "source": [
    "n = 10\n",
    "beta = 1\n",
    "init = np.random.choice([1,-1], size=(n,n))\n",
    "\n",
    "gib_samp_mid, iter_mid = gibbs_sampling(n, beta, init)\n",
    "\n",
    "x1 = (gib_samp_mid[int(iter_mid*0.2):,0] == 1).sum() / len(gib_samp_mid[int(iter_mid*0.2):,0]) # P(x_1 = 1)\n",
    "x10 = (gib_samp_mid[int(iter_mid*0.2):,1] == 1).sum() / len(gib_samp_mid[int(iter_mid*0.2):,1]) # P(x_10 = 1)\n",
    "\n",
    "print('Fourth Trial')\n",
    "print(f'P(x_1 = 1, x_10 = 1) = {x1 * x10}')\n",
    "print(f'P(x_1 = -1, x_10 = 1) = {(1-x1) * x10}')\n",
    "print(f'P(x_1 = 1, x_10 = -1) = {x1 * (1-x10)}')\n",
    "print(f'P(x_1 = -1, x_10 = -1) = {(1-x1) * (1-x10)}')"
   ]
  },
  {
   "cell_type": "code",
   "execution_count": 47,
   "id": "741a9796",
   "metadata": {},
   "outputs": [
    {
     "name": "stdout",
     "output_type": "stream",
     "text": [
      "Fifth Trial\n",
      "P(x_1 = 1, x_10 = 1) = 0.24486754687500004\n",
      "P(x_1 = -1, x_10 = 1) = 0.23025745312499998\n",
      "P(x_1 = 1, x_10 = -1) = 0.270507453125\n",
      "P(x_1 = -1, x_10 = -1) = 0.25436754687499996\n"
     ]
    }
   ],
   "source": [
    "n = 10\n",
    "beta = 1\n",
    "init = np.random.choice([1,-1], size=(n,n))\n",
    "\n",
    "gib_samp_mid, iter_mid = gibbs_sampling(n, beta, init)\n",
    "\n",
    "x1 = (gib_samp_mid[int(iter_mid*0.2):,0] == 1).sum() / len(gib_samp_mid[int(iter_mid*0.2):,0]) # P(x_1 = 1)\n",
    "x10 = (gib_samp_mid[int(iter_mid*0.2):,1] == 1).sum() / len(gib_samp_mid[int(iter_mid*0.2):,1]) # P(x_10 = 1)\n",
    "\n",
    "print('Fifth Trial')\n",
    "print(f'P(x_1 = 1, x_10 = 1) = {x1 * x10}')\n",
    "print(f'P(x_1 = -1, x_10 = 1) = {(1-x1) * x10}')\n",
    "print(f'P(x_1 = 1, x_10 = -1) = {x1 * (1-x10)}')\n",
    "print(f'P(x_1 = -1, x_10 = -1) = {(1-x1) * (1-x10)}')"
   ]
  },
  {
   "cell_type": "markdown",
   "id": "9aaa94b5",
   "metadata": {},
   "source": [
    "### $\\beta$ = 4"
   ]
  },
  {
   "cell_type": "code",
   "execution_count": 48,
   "id": "a5b7a649",
   "metadata": {},
   "outputs": [
    {
     "name": "stdout",
     "output_type": "stream",
     "text": [
      "First Trial\n",
      "P(x_1 = 1, x_10 = 1) = 1.0\n",
      "P(x_1 = -1, x_10 = 1) = 0.0\n",
      "P(x_1 = 1, x_10 = -1) = 0.0\n",
      "P(x_1 = -1, x_10 = -1) = 0.0\n"
     ]
    }
   ],
   "source": [
    "n = 10\n",
    "beta = 4\n",
    "init = np.random.choice([1,-1], size=(n,n))\n",
    "\n",
    "gib_samp_large, iter_large = gibbs_sampling(n, beta, init)\n",
    "\n",
    "x1 = (gib_samp_large[int(iter_large*0.2):,0] == 1).sum() / len(gib_samp_large[int(iter_large*0.2):,0]) # P(x_1 = 1)\n",
    "x10 = (gib_samp_large[int(iter_large*0.2):,1] == 1).sum() / len(gib_samp_large[int(iter_large*0.2):,1]) # P(x_10 = 1)\n",
    "\n",
    "print('First Trial')\n",
    "print(f'P(x_1 = 1, x_10 = 1) = {x1 * x10}')\n",
    "print(f'P(x_1 = -1, x_10 = 1) = {(1-x1) * x10}')\n",
    "print(f'P(x_1 = 1, x_10 = -1) = {x1 * (1-x10)}')\n",
    "print(f'P(x_1 = -1, x_10 = -1) = {(1-x1) * (1-x10)}')"
   ]
  },
  {
   "cell_type": "code",
   "execution_count": 49,
   "id": "59462a1f",
   "metadata": {},
   "outputs": [
    {
     "name": "stdout",
     "output_type": "stream",
     "text": [
      "Second Trial\n",
      "P(x_1 = 1, x_10 = 1) = 0.0\n",
      "P(x_1 = -1, x_10 = 1) = 1.0\n",
      "P(x_1 = 1, x_10 = -1) = 0.0\n",
      "P(x_1 = -1, x_10 = -1) = 0.0\n"
     ]
    }
   ],
   "source": [
    "n = 10\n",
    "beta = 4\n",
    "init = np.random.choice([1,-1], size=(n,n))\n",
    "\n",
    "gib_samp_large, iter_large = gibbs_sampling(n, beta, init)\n",
    "\n",
    "x1 = (gib_samp_large[int(iter_large*0.2):,0] == 1).sum() / len(gib_samp_large[int(iter_large*0.2):,0]) # P(x_1 = 1)\n",
    "x10 = (gib_samp_large[int(iter_large*0.2):,1] == 1).sum() / len(gib_samp_large[int(iter_large*0.2):,1]) # P(x_10 = 1)\n",
    "\n",
    "print('Second Trial')\n",
    "print(f'P(x_1 = 1, x_10 = 1) = {x1 * x10}')\n",
    "print(f'P(x_1 = -1, x_10 = 1) = {(1-x1) * x10}')\n",
    "print(f'P(x_1 = 1, x_10 = -1) = {x1 * (1-x10)}')\n",
    "print(f'P(x_1 = -1, x_10 = -1) = {(1-x1) * (1-x10)}')"
   ]
  },
  {
   "cell_type": "code",
   "execution_count": 50,
   "id": "a993d88f",
   "metadata": {},
   "outputs": [
    {
     "name": "stdout",
     "output_type": "stream",
     "text": [
      "Third Trial\n",
      "P(x_1 = 1, x_10 = 1) = 0.0\n",
      "P(x_1 = -1, x_10 = 1) = 0.0\n",
      "P(x_1 = 1, x_10 = -1) = 0.0\n",
      "P(x_1 = -1, x_10 = -1) = 1.0\n"
     ]
    }
   ],
   "source": [
    "n = 10\n",
    "beta = 4\n",
    "init = np.random.choice([1,-1], size=(n,n))\n",
    "\n",
    "gib_samp_large, iter_large = gibbs_sampling(n, beta, init)\n",
    "\n",
    "x1 = (gib_samp_large[int(iter_large*0.2):,0] == 1).sum() / len(gib_samp_large[int(iter_large*0.2):,0]) # P(x_1 = 1)\n",
    "x10 = (gib_samp_large[int(iter_large*0.2):,1] == 1).sum() / len(gib_samp_large[int(iter_large*0.2):,1]) # P(x_10 = 1)\n",
    "\n",
    "print('Third Trial')\n",
    "print(f'P(x_1 = 1, x_10 = 1) = {x1 * x10}')\n",
    "print(f'P(x_1 = -1, x_10 = 1) = {(1-x1) * x10}')\n",
    "print(f'P(x_1 = 1, x_10 = -1) = {x1 * (1-x10)}')\n",
    "print(f'P(x_1 = -1, x_10 = -1) = {(1-x1) * (1-x10)}')"
   ]
  },
  {
   "cell_type": "code",
   "execution_count": 51,
   "id": "f93a4d93",
   "metadata": {},
   "outputs": [
    {
     "name": "stdout",
     "output_type": "stream",
     "text": [
      "Fourth Trial\n",
      "P(x_1 = 1, x_10 = 1) = 1.0\n",
      "P(x_1 = -1, x_10 = 1) = 0.0\n",
      "P(x_1 = 1, x_10 = -1) = 0.0\n",
      "P(x_1 = -1, x_10 = -1) = 0.0\n"
     ]
    }
   ],
   "source": [
    "n = 10\n",
    "beta = 4\n",
    "init = np.random.choice([1,-1], size=(n,n))\n",
    "\n",
    "gib_samp_large, iter_large = gibbs_sampling(n, beta, init)\n",
    "\n",
    "x1 = (gib_samp_large[int(iter_large*0.2):,0] == 1).sum() / len(gib_samp_large[int(iter_large*0.2):,0]) # P(x_1 = 1)\n",
    "x10 = (gib_samp_large[int(iter_large*0.2):,1] == 1).sum() / len(gib_samp_large[int(iter_large*0.2):,1]) # P(x_10 = 1)\n",
    "\n",
    "print('Fourth Trial')\n",
    "print(f'P(x_1 = 1, x_10 = 1) = {x1 * x10}')\n",
    "print(f'P(x_1 = -1, x_10 = 1) = {(1-x1) * x10}')\n",
    "print(f'P(x_1 = 1, x_10 = -1) = {x1 * (1-x10)}')\n",
    "print(f'P(x_1 = -1, x_10 = -1) = {(1-x1) * (1-x10)}')"
   ]
  },
  {
   "cell_type": "code",
   "execution_count": 52,
   "id": "778e6787",
   "metadata": {},
   "outputs": [
    {
     "name": "stdout",
     "output_type": "stream",
     "text": [
      "Fifth Trial\n",
      "P(x_1 = 1, x_10 = 1) = 0.0\n",
      "P(x_1 = -1, x_10 = 1) = 0.0\n",
      "P(x_1 = 1, x_10 = -1) = 0.0\n",
      "P(x_1 = -1, x_10 = -1) = 1.0\n"
     ]
    }
   ],
   "source": [
    "n = 10\n",
    "beta = 4\n",
    "init = np.random.choice([1,-1], size=(n,n))\n",
    "\n",
    "gib_samp_large, iter_large = gibbs_sampling(n, beta, init)\n",
    "\n",
    "x1 = (gib_samp_large[int(iter_large*0.2):,0] == 1).sum() / len(gib_samp_large[int(iter_large*0.2):,0]) # P(x_1 = 1)\n",
    "x10 = (gib_samp_large[int(iter_large*0.2):,1] == 1).sum() / len(gib_samp_large[int(iter_large*0.2):,1]) # P(x_10 = 1)\n",
    "\n",
    "print('Fifth Trial')\n",
    "print(f'P(x_1 = 1, x_10 = 1) = {x1 * x10}')\n",
    "print(f'P(x_1 = -1, x_10 = 1) = {(1-x1) * x10}')\n",
    "print(f'P(x_1 = 1, x_10 = -1) = {x1 * (1-x10)}')\n",
    "print(f'P(x_1 = -1, x_10 = -1) = {(1-x1) * (1-x10)}')"
   ]
  },
  {
   "cell_type": "code",
   "execution_count": null,
   "id": "d1dcefb8",
   "metadata": {},
   "outputs": [],
   "source": []
  }
 ],
 "metadata": {
  "kernelspec": {
   "display_name": "Python 3 (ipykernel)",
   "language": "python",
   "name": "python3"
  },
  "language_info": {
   "codemirror_mode": {
    "name": "ipython",
    "version": 3
   },
   "file_extension": ".py",
   "mimetype": "text/x-python",
   "name": "python",
   "nbconvert_exporter": "python",
   "pygments_lexer": "ipython3",
   "version": "3.8.3"
  }
 },
 "nbformat": 4,
 "nbformat_minor": 5
}
