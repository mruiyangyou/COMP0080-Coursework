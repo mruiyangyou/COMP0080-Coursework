{
 "cells": [
  {
   "cell_type": "markdown",
   "metadata": {},
   "source": [
    "# Question 1.3\n",
    "\n",
    "## Import relevant packages"
   ]
  },
  {
   "cell_type": "code",
   "execution_count": 1,
   "metadata": {},
   "outputs": [],
   "source": [
    "import numpy as np \n",
    "from threewhether import * "
   ]
  },
  {
   "cell_type": "markdown",
   "metadata": {},
   "source": [
    "## 1.3.2 Random initialisation"
   ]
  },
  {
   "cell_type": "code",
   "execution_count": 2,
   "metadata": {},
   "outputs": [],
   "source": [
    "num_of_iteration = 20\n",
    "data = read_data('../../data/meteo1.csv')"
   ]
  },
  {
   "cell_type": "code",
   "execution_count": 3,
   "metadata": {},
   "outputs": [
    {
     "name": "stdout",
     "output_type": "stream",
     "text": [
      "Iteration: 1  The loglikelihood: -56909.045\n",
      "Iteration: 2  The loglikelihood: -45635.671\n",
      "Iteration: 3  The loglikelihood: -45293.055\n",
      "Iteration: 4  The loglikelihood: -45255.235\n",
      "Iteration: 5  The loglikelihood: -45254.517\n",
      "Iteration: 6  The loglikelihood: -45254.510\n",
      "Iteration: 7  The loglikelihood: -45254.510\n",
      "Iteration: 8  The loglikelihood: -45254.510\n",
      "Iteration: 9  The loglikelihood: -45254.510\n",
      "Iteration: 10  The loglikelihood: -45254.510\n",
      "Iteration: 11  The loglikelihood: -45254.510\n",
      "Iteration: 12  The loglikelihood: -45254.510\n",
      "Iteration: 13  The loglikelihood: -45254.510\n",
      "Iteration: 14  The loglikelihood: -45254.510\n",
      "Iteration: 15  The loglikelihood: -45254.510\n",
      "Iteration: 16  The loglikelihood: -45254.510\n",
      "Iteration: 17  The loglikelihood: -45254.510\n",
      "Iteration: 18  The loglikelihood: -45254.510\n",
      "Iteration: 19  The loglikelihood: -45254.510\n",
      "Iteration: 20  The loglikelihood: -45254.510\n",
      "Hidden State Prob: \n",
      " [0.3   0.192 0.508]\n",
      "Initial State Prob Given Hidden State: \n",
      " [[0.192 0.419 0.389]\n",
      " [0.427 0.573 0.   ]\n",
      " [0.461 0.331 0.208]]\n",
      "Transition Matrix Given Hidden State: \n",
      " [[[0.06  0.14  0.801]\n",
      "  [0.13  0.324 0.546]\n",
      "  [0.418 0.428 0.155]]\n",
      "\n",
      " [[0.389 0.148 0.463]\n",
      "  [0.241 0.515 0.244]\n",
      "  [0.545 0.018 0.437]]\n",
      "\n",
      " [[0.071 0.495 0.435]\n",
      "  [0.137 0.226 0.637]\n",
      "  [0.511 0.437 0.052]]]\n"
     ]
    }
   ],
   "source": [
    "\n",
    "mle_params = EM_Mixture_Markov(data, num_of_iteration)\n",
    "\n",
    "for name, i in zip(['Hidden State Prob:', 'Initial State Prob Given Hidden State:',\n",
    "                    'Transition Matrix Given Hidden State:'],\n",
    "                    mle_params):\n",
    "    print(name,'\\n', np.round(i, 3))"
   ]
  },
  {
   "cell_type": "markdown",
   "metadata": {},
   "source": [
    "## 1.3.4 Uniform initialisation"
   ]
  },
  {
   "cell_type": "code",
   "execution_count": 4,
   "metadata": {},
   "outputs": [
    {
     "name": "stdout",
     "output_type": "stream",
     "text": [
      "Iteration: 1  The loglikelihood: -54930.614\n",
      "Iteration: 2  The loglikelihood: -49473.547\n",
      "Iteration: 3  The loglikelihood: -49473.547\n",
      "Iteration: 4  The loglikelihood: -49473.547\n",
      "Iteration: 5  The loglikelihood: -49473.547\n",
      "Iteration: 6  The loglikelihood: -49473.547\n",
      "Iteration: 7  The loglikelihood: -49473.547\n",
      "Iteration: 8  The loglikelihood: -49473.547\n",
      "Iteration: 9  The loglikelihood: -49473.547\n",
      "Iteration: 10  The loglikelihood: -49473.547\n",
      "Iteration: 11  The loglikelihood: -49473.547\n",
      "Iteration: 12  The loglikelihood: -49473.547\n",
      "Iteration: 13  The loglikelihood: -49473.547\n",
      "Iteration: 14  The loglikelihood: -49473.547\n",
      "Iteration: 15  The loglikelihood: -49473.547\n",
      "Iteration: 16  The loglikelihood: -49473.547\n",
      "Iteration: 17  The loglikelihood: -49473.547\n",
      "Iteration: 18  The loglikelihood: -49473.547\n",
      "Iteration: 19  The loglikelihood: -49473.547\n",
      "Iteration: 20  The loglikelihood: -49473.547\n",
      "Hidden State Prob: \n",
      " [0.333 0.333 0.333]\n",
      "Initial State Prob Given Hidden State: \n",
      " [[0.374 0.404 0.222]\n",
      " [0.374 0.404 0.222]\n",
      " [0.374 0.404 0.222]]\n",
      "Transition Matrix Given Hidden State: \n",
      " [[[0.16  0.306 0.534]\n",
      "  [0.145 0.283 0.572]\n",
      "  [0.487 0.35  0.163]]\n",
      "\n",
      " [[0.16  0.306 0.534]\n",
      "  [0.145 0.283 0.572]\n",
      "  [0.487 0.35  0.163]]\n",
      "\n",
      " [[0.16  0.306 0.534]\n",
      "  [0.145 0.283 0.572]\n",
      "  [0.487 0.35  0.163]]]\n"
     ]
    }
   ],
   "source": [
    "mle_params = EM_Mixture_Markov(data, num_of_iteration,\n",
    "                               initial='Uniform')\n",
    "\n",
    "for name, i in zip(['Hidden State Prob:', 'Initial State Prob Given Hidden State:',\n",
    "                    'Transition Matrix Given Hidden State:'],\n",
    "                    mle_params):\n",
    "    print(name,'\\n', np.round(i, 3))"
   ]
  }
 ],
 "metadata": {
  "kernelspec": {
   "display_name": "Python 3",
   "language": "python",
   "name": "python3"
  },
  "language_info": {
   "codemirror_mode": {
    "name": "ipython",
    "version": 3
   },
   "file_extension": ".py",
   "mimetype": "text/x-python",
   "name": "python",
   "nbconvert_exporter": "python",
   "pygments_lexer": "ipython3",
   "version": "3.8.3"
  }
 },
 "nbformat": 4,
 "nbformat_minor": 2
}
